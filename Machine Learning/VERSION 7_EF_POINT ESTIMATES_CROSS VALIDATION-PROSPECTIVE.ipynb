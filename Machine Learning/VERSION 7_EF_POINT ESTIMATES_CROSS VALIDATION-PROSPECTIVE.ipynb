{
 "cells": [
  {
   "cell_type": "markdown",
   "metadata": {},
   "source": [
    "# EF REMOVED VAL=0,2,3"
   ]
  },
  {
   "cell_type": "code",
   "execution_count": 33,
   "metadata": {},
   "outputs": [
    {
     "name": "stdout",
     "output_type": "stream",
     "text": [
      "                         Findings_Value EF_OUTCOMES\n",
      "0             LV ejection fraction= 52%           5\n",
      "1                 Estimated EF is >70%.           6\n",
      "2                 Estimated EF is >70%.           6\n",
      "3     Biplane LV ejection fraction= 35%           3\n",
      "4                 Estimated EF is >70%.           6\n",
      "...                                 ...         ...\n",
      "7438              Estimated EF is >70%.           6\n",
      "7439              Estimated EF is >70%.           6\n",
      "7440  Biplane LV ejection fraction= 27%           2\n",
      "7441              Estimated EF is >70%.           6\n",
      "7442      LV EF by single plane is 57%.           5\n",
      "\n",
      "[7443 rows x 2 columns]\n"
     ]
    }
   ],
   "source": [
    "import pandas as pd\n",
    "import numpy as np\n",
    "import matplotlib.pyplot as plt\n",
    "from sklearn.tree import DecisionTreeClassifier\n",
    "from sklearn.tree import plot_tree\n",
    "from sklearn.model_selection import train_test_split\n",
    "from sklearn.model_selection import cross_val_score\n",
    "from sklearn.metrics import confusion_matrix\n",
    "from sklearn.metrics import plot_confusion_matrix\n",
    "import pyodbc \n",
    "import nltk\n",
    "import re\n",
    "\n",
    "conn = pyodbc.connect('Driver={SQL Server};'\n",
    "                      'Server=HHVDBCORT01;'\n",
    "                      'Database=NASIR;'\n",
    "                      'user =HHVDBCORT01\\\\TMHBXB78;'\n",
    "                      'Trusted_Connection=yes;')\n",
    "\n",
    "sql_query = pd.read_sql_query('SElect * from NASIR.DBO.POINT_ESTIMATES_NLP_PROSPECTIVE WHERE EF_OUTCOMES<>8', conn)\n",
    "df = pd.DataFrame(sql_query, columns=['Findings_Value','EF_OUTCOMES'])\n",
    "print(df)"
   ]
  },
  {
   "cell_type": "markdown",
   "metadata": {},
   "source": [
    "# DATA PRE PROCESSING"
   ]
  },
  {
   "cell_type": "code",
   "execution_count": 34,
   "metadata": {},
   "outputs": [],
   "source": [
    "##removal of extra spaces from the text\n",
    "df['Findings_Value'] =  df['Findings_Value'].apply(lambda x: re.sub(r'\\s+',' ', str(x)))\n",
    "##removal of non-words characters with space\n",
    "##df['FINDINGS_VALUE'] =  df['FINDINGS_VALUE'].apply(lambda x: re.sub(r'\\W',' ', str(x)))\n",
    "##ANY ONE digit/non-digit character\n",
    "##df['FINDINGS_VALUE'] =  df['FINDINGS_VALUE'].apply(lambda x: re.sub(r'\\d',' ', str(x)))\n",
    "##removal of single characters within sentence\n",
    "df['Findings_Value'] =  df['Findings_Value'].apply(lambda x: re.sub(r'\\s+[a-z]\\s+',' ', str(x)))\n",
    "##removal of single characters beginning of sentence or at the end\n",
    "df['Findings_Value'] =  df['Findings_Value'].apply(lambda x: re.sub(r'^[a-z]\\s+',' ', str(x)))"
   ]
  },
  {
   "cell_type": "code",
   "execution_count": 35,
   "metadata": {},
   "outputs": [
    {
     "name": "stdout",
     "output_type": "stream",
     "text": [
      "                         Findings_Value EF_OUTCOMES\n",
      "0             LV ejection fraction= 52%           5\n",
      "1                 Estimated EF is >70%.           6\n",
      "2                 Estimated EF is >70%.           6\n",
      "3     Biplane LV ejection fraction= 35%           3\n",
      "4                 Estimated EF is >70%.           6\n",
      "...                                 ...         ...\n",
      "7438              Estimated EF is >70%.           6\n",
      "7439              Estimated EF is >70%.           6\n",
      "7440  Biplane LV ejection fraction= 27%           2\n",
      "7441              Estimated EF is >70%.           6\n",
      "7442      LV EF by single plane is 57%.           5\n",
      "\n",
      "[7443 rows x 2 columns]\n"
     ]
    }
   ],
   "source": [
    "print(df)"
   ]
  },
  {
   "cell_type": "markdown",
   "metadata": {},
   "source": [
    "# REMOVAL OF STOPWORDS"
   ]
  },
  {
   "cell_type": "code",
   "execution_count": 36,
   "metadata": {},
   "outputs": [],
   "source": [
    "from nltk.corpus import stopwords  \n",
    "from nltk.tokenize import word_tokenize  \n",
    "stop_words = set(stopwords.words('english'))  \n",
    "\n",
    "def remove_stopwords(sentence):\n",
    "    word_tokens = word_tokenize(sentence)  \n",
    "    clean_tokens = [w for w in word_tokens if not w in stop_words]  \n",
    "    \n",
    "    return clean_tokens\n",
    "    \n",
    "df['Findings_Value'] = df['Findings_Value'].apply(remove_stopwords)"
   ]
  },
  {
   "cell_type": "code",
   "execution_count": 37,
   "metadata": {},
   "outputs": [
    {
     "name": "stdout",
     "output_type": "stream",
     "text": [
      "                                 Findings_Value EF_OUTCOMES\n",
      "0              [LV, ejection, fraction=, 52, %]           5\n",
      "1                  [Estimated, EF, >, 70, %, .]           6\n",
      "2                  [Estimated, EF, >, 70, %, .]           6\n",
      "3     [Biplane, LV, ejection, fraction=, 35, %]           3\n",
      "4                  [Estimated, EF, >, 70, %, .]           6\n",
      "...                                         ...         ...\n",
      "7438               [Estimated, EF, >, 70, %, .]           6\n",
      "7439               [Estimated, EF, >, 70, %, .]           6\n",
      "7440  [Biplane, LV, ejection, fraction=, 27, %]           2\n",
      "7441               [Estimated, EF, >, 70, %, .]           6\n",
      "7442          [LV, EF, single, plane, 57, %, .]           5\n",
      "\n",
      "[7443 rows x 2 columns]\n"
     ]
    }
   ],
   "source": [
    "print(df)"
   ]
  },
  {
   "cell_type": "markdown",
   "metadata": {},
   "source": [
    "# REMOVAL OF SPEACIAL CHARACTERS"
   ]
  },
  {
   "cell_type": "code",
   "execution_count": 38,
   "metadata": {},
   "outputs": [],
   "source": [
    "# removal of numbers from text\n",
    "df['Findings_Value'] =  df['Findings_Value'].apply(lambda x: re.sub(r'\\[[0-9]*\\]',' ', str(x)))\n",
    "##removal of extra spaces from the text\n",
    "df['Findings_Value'] =  df['Findings_Value'].apply(lambda x: re.sub(r'\\s+',' ', str(x)))\n",
    "##removal of non words characters with space\n",
    "df['Findings_Value'] =  df['Findings_Value'].apply(lambda x: re.sub(r'\\W',' ', str(x)))\n",
    "##\n",
    "df['Findings_Value'] =  df['Findings_Value'].apply(lambda x: re.sub(r'\\s+',' ', str(x)))"
   ]
  },
  {
   "cell_type": "code",
   "execution_count": 39,
   "metadata": {},
   "outputs": [
    {
     "data": {
      "text/html": [
       "<div>\n",
       "<style scoped>\n",
       "    .dataframe tbody tr th:only-of-type {\n",
       "        vertical-align: middle;\n",
       "    }\n",
       "\n",
       "    .dataframe tbody tr th {\n",
       "        vertical-align: top;\n",
       "    }\n",
       "\n",
       "    .dataframe thead th {\n",
       "        text-align: right;\n",
       "    }\n",
       "</style>\n",
       "<table border=\"1\" class=\"dataframe\">\n",
       "  <thead>\n",
       "    <tr style=\"text-align: right;\">\n",
       "      <th></th>\n",
       "      <th>Findings_Value</th>\n",
       "      <th>EF_OUTCOMES</th>\n",
       "    </tr>\n",
       "  </thead>\n",
       "  <tbody>\n",
       "    <tr>\n",
       "      <th>0</th>\n",
       "      <td>LV ejection fraction 52</td>\n",
       "      <td>5</td>\n",
       "    </tr>\n",
       "    <tr>\n",
       "      <th>1</th>\n",
       "      <td>Estimated EF 70</td>\n",
       "      <td>6</td>\n",
       "    </tr>\n",
       "    <tr>\n",
       "      <th>2</th>\n",
       "      <td>Estimated EF 70</td>\n",
       "      <td>6</td>\n",
       "    </tr>\n",
       "    <tr>\n",
       "      <th>3</th>\n",
       "      <td>Biplane LV ejection fraction 35</td>\n",
       "      <td>3</td>\n",
       "    </tr>\n",
       "    <tr>\n",
       "      <th>4</th>\n",
       "      <td>Estimated EF 70</td>\n",
       "      <td>6</td>\n",
       "    </tr>\n",
       "  </tbody>\n",
       "</table>\n",
       "</div>"
      ],
      "text/plain": [
       "                      Findings_Value EF_OUTCOMES\n",
       "0           LV ejection fraction 52            5\n",
       "1                   Estimated EF 70            6\n",
       "2                   Estimated EF 70            6\n",
       "3   Biplane LV ejection fraction 35            3\n",
       "4                   Estimated EF 70            6"
      ]
     },
     "execution_count": 39,
     "metadata": {},
     "output_type": "execute_result"
    }
   ],
   "source": [
    "df.head()"
   ]
  },
  {
   "cell_type": "code",
   "execution_count": 40,
   "metadata": {},
   "outputs": [
    {
     "name": "stdout",
     "output_type": "stream",
     "text": [
      "                         Findings_Value EF_OUTCOMES\n",
      "0              LV ejection fraction 52            5\n",
      "1                      Estimated EF 70            6\n",
      "2                      Estimated EF 70            6\n",
      "3      Biplane LV ejection fraction 35            3\n",
      "4                      Estimated EF 70            6\n",
      "...                                 ...         ...\n",
      "7438                   Estimated EF 70            6\n",
      "7439                   Estimated EF 70            6\n",
      "7440   Biplane LV ejection fraction 27            2\n",
      "7441                   Estimated EF 70            6\n",
      "7442             LV EF single plane 57            5\n",
      "\n",
      "[7443 rows x 2 columns]\n"
     ]
    }
   ],
   "source": [
    "print(df)"
   ]
  },
  {
   "cell_type": "code",
   "execution_count": 41,
   "metadata": {},
   "outputs": [
    {
     "data": {
      "text/plain": [
       "Findings_Value    0\n",
       "EF_OUTCOMES       0\n",
       "dtype: int64"
      ]
     },
     "execution_count": 41,
     "metadata": {},
     "output_type": "execute_result"
    }
   ],
   "source": [
    "df.isnull().sum()"
   ]
  },
  {
   "cell_type": "code",
   "execution_count": 452,
   "metadata": {},
   "outputs": [],
   "source": [
    "df.to_excel (r'I:\\BUDHA\\C3PH ECHO\\Python pipeline\\export_dataframe_EF_outcomes.xlsx', index = False, header=True)"
   ]
  },
  {
   "cell_type": "code",
   "execution_count": 42,
   "metadata": {},
   "outputs": [
    {
     "data": {
      "text/plain": [
       "6    5403\n",
       "5     613\n",
       "4     439\n",
       "1     390\n",
       "3     313\n",
       "2     181\n",
       "7      56\n",
       "0      48\n",
       "Name: EF_OUTCOMES, dtype: int64"
      ]
     },
     "execution_count": 42,
     "metadata": {},
     "output_type": "execute_result"
    }
   ],
   "source": [
    "df['EF_OUTCOMES'].value_counts()"
   ]
  },
  {
   "cell_type": "markdown",
   "metadata": {},
   "source": [
    "# DIVIDE THE DATA INTO TRAINING AND TEST SET"
   ]
  },
  {
   "cell_type": "code",
   "execution_count": 43,
   "metadata": {},
   "outputs": [],
   "source": [
    "from sklearn.model_selection import train_test_split"
   ]
  },
  {
   "cell_type": "code",
   "execution_count": 44,
   "metadata": {},
   "outputs": [],
   "source": [
    "X=df['Findings_Value']"
   ]
  },
  {
   "cell_type": "code",
   "execution_count": 45,
   "metadata": {},
   "outputs": [],
   "source": [
    "y=df['EF_OUTCOMES']"
   ]
  },
  {
   "cell_type": "code",
   "execution_count": 46,
   "metadata": {},
   "outputs": [],
   "source": [
    "from sklearn.feature_extraction.text import CountVectorizer"
   ]
  },
  {
   "cell_type": "markdown",
   "metadata": {},
   "source": [
    "# TERM FREQUENCY INVERSE DOCUMENT FREQUENCY (TFIDF) TRANSFORMATION"
   ]
  },
  {
   "cell_type": "code",
   "execution_count": 47,
   "metadata": {},
   "outputs": [],
   "source": [
    "from sklearn.feature_extraction.text import CountVectorizer"
   ]
  },
  {
   "cell_type": "code",
   "execution_count": 48,
   "metadata": {},
   "outputs": [],
   "source": [
    "#creating bag of words\n",
    "count_vect = CountVectorizer(min_df=1,max_df=1.0)"
   ]
  },
  {
   "cell_type": "code",
   "execution_count": 49,
   "metadata": {},
   "outputs": [],
   "source": [
    "X_counts = count_vect.fit_transform(X)"
   ]
  },
  {
   "cell_type": "code",
   "execution_count": 50,
   "metadata": {},
   "outputs": [
    {
     "data": {
      "text/plain": [
       "(7443, 164)"
      ]
     },
     "execution_count": 50,
     "metadata": {},
     "output_type": "execute_result"
    }
   ],
   "source": [
    "X_counts.shape"
   ]
  },
  {
   "cell_type": "code",
   "execution_count": 51,
   "metadata": {},
   "outputs": [
    {
     "name": "stdout",
     "output_type": "stream",
     "text": [
      "  (0, 115)\t1\n",
      "  (0, 101)\t1\n",
      "  (0, 105)\t1\n",
      "  (0, 44)\t1\n",
      "  (1, 102)\t1\n",
      "  (1, 100)\t1\n",
      "  (1, 62)\t1\n",
      "  (2, 102)\t1\n",
      "  (2, 100)\t1\n",
      "  (2, 62)\t1\n",
      "  (3, 115)\t1\n",
      "  (3, 101)\t1\n",
      "  (3, 105)\t1\n",
      "  (3, 85)\t1\n",
      "  (3, 25)\t1\n",
      "  (4, 102)\t1\n",
      "  (4, 100)\t1\n",
      "  (4, 62)\t1\n",
      "  (5, 102)\t1\n",
      "  (5, 100)\t1\n",
      "  (5, 62)\t1\n",
      "  (6, 102)\t1\n",
      "  (6, 100)\t1\n",
      "  (6, 62)\t1\n",
      "  (7, 115)\t1\n",
      "  :\t:\n",
      "  (7436, 105)\t1\n",
      "  (7436, 85)\t1\n",
      "  (7436, 43)\t1\n",
      "  (7437, 102)\t1\n",
      "  (7437, 100)\t1\n",
      "  (7437, 62)\t1\n",
      "  (7438, 102)\t1\n",
      "  (7438, 100)\t1\n",
      "  (7438, 62)\t1\n",
      "  (7439, 102)\t1\n",
      "  (7439, 100)\t1\n",
      "  (7439, 62)\t1\n",
      "  (7440, 115)\t1\n",
      "  (7440, 101)\t1\n",
      "  (7440, 105)\t1\n",
      "  (7440, 85)\t1\n",
      "  (7440, 16)\t1\n",
      "  (7441, 102)\t1\n",
      "  (7441, 100)\t1\n",
      "  (7441, 62)\t1\n",
      "  (7442, 115)\t1\n",
      "  (7442, 100)\t1\n",
      "  (7442, 49)\t1\n",
      "  (7442, 144)\t1\n",
      "  (7442, 128)\t1\n"
     ]
    }
   ],
   "source": [
    "print(X_counts)"
   ]
  },
  {
   "cell_type": "code",
   "execution_count": 52,
   "metadata": {},
   "outputs": [],
   "source": [
    "from sklearn.feature_extraction.text import TfidfTransformer"
   ]
  },
  {
   "cell_type": "code",
   "execution_count": 53,
   "metadata": {},
   "outputs": [],
   "source": [
    "tfidf_transformer = TfidfTransformer()"
   ]
  },
  {
   "cell_type": "code",
   "execution_count": 54,
   "metadata": {},
   "outputs": [],
   "source": [
    "X_tfidf=tfidf_transformer.fit_transform(X_counts)"
   ]
  },
  {
   "cell_type": "code",
   "execution_count": 55,
   "metadata": {},
   "outputs": [
    {
     "data": {
      "text/plain": [
       "<7443x164 sparse matrix of type '<class 'numpy.float64'>'\n",
       "\twith 26292 stored elements in Compressed Sparse Row format>"
      ]
     },
     "execution_count": 55,
     "metadata": {},
     "output_type": "execute_result"
    }
   ],
   "source": [
    "X_tfidf"
   ]
  },
  {
   "cell_type": "code",
   "execution_count": 56,
   "metadata": {},
   "outputs": [],
   "source": [
    "from sklearn.preprocessing import LabelEncoder\n",
    "y_new= LabelEncoder().fit_transform(y)"
   ]
  },
  {
   "cell_type": "code",
   "execution_count": 57,
   "metadata": {},
   "outputs": [
    {
     "data": {
      "text/plain": [
       "(7443,)"
      ]
     },
     "execution_count": 57,
     "metadata": {},
     "output_type": "execute_result"
    }
   ],
   "source": [
    "y_new.shape"
   ]
  },
  {
   "cell_type": "code",
   "execution_count": 58,
   "metadata": {},
   "outputs": [
    {
     "data": {
      "text/plain": [
       "(7443, 164)"
      ]
     },
     "execution_count": 58,
     "metadata": {},
     "output_type": "execute_result"
    }
   ],
   "source": [
    "X_tfidf.shape"
   ]
  },
  {
   "cell_type": "code",
   "execution_count": 59,
   "metadata": {},
   "outputs": [],
   "source": [
    "from pandas import read_csv\n",
    "from imblearn.over_sampling import SMOTE\n",
    "from collections import Counter\n",
    "from matplotlib import pyplot\n",
    "from sklearn.preprocessing import LabelEncoder\n",
    "from imblearn.datasets import make_imbalance\n",
    "from imblearn.under_sampling import NearMiss\n",
    "from imblearn.pipeline import make_pipeline\n",
    "from imblearn.metrics import classification_report_imbalanced"
   ]
  },
  {
   "cell_type": "code",
   "execution_count": 60,
   "metadata": {},
   "outputs": [
    {
     "name": "stdout",
     "output_type": "stream",
     "text": [
      "Class=5, n=5403 (12.500%)\n",
      "Class=6, n=5403 (12.500%)\n",
      "Class=3, n=5403 (12.500%)\n",
      "Class=4, n=5403 (12.500%)\n",
      "Class=1, n=5403 (12.500%)\n",
      "Class=2, n=5403 (12.500%)\n",
      "Class=7, n=5403 (12.500%)\n",
      "Class=0, n=5403 (12.500%)\n"
     ]
    },
    {
     "data": {
      "image/png": "[encoded data removed]",
      "text/plain": [
       "<Figure size 432x288 with 1 Axes>"
      ]
     },
     "metadata": {
      "needs_background": "light"
     },
     "output_type": "display_data"
    }
   ],
   "source": [
    "oversample = SMOTE()\n",
    "X_tfidf, y_new = oversample.fit_resample(X_tfidf, y_new)\n",
    "counterx = Counter(y_new)\n",
    "for k,v in counterx.items():\n",
    "    per = v / len(y_new) * 100\n",
    "    print('Class=%d, n=%d (%.3f%%)' % (k, v, per))\n",
    "\n",
    "pyplot.bar(counterx.keys(), counterx.values())\n",
    "pyplot.show()"
   ]
  },
  {
   "cell_type": "code",
   "execution_count": 61,
   "metadata": {},
   "outputs": [],
   "source": [
    "from sklearn.ensemble import RandomForestClassifier\n",
    "X_train, X_test, y_train, y_test = train_test_split(X_tfidf, y_new,test_size=0.33,random_state=42)"
   ]
  },
  {
   "cell_type": "markdown",
   "metadata": {},
   "source": [
    "# FINAL :1ST method(7:3): BOW+TFIDF+RANDOM FOREST+HYPERPARAMETER OPTIMIZATION USING RANDOMIZED SEARCH CROSS VALIDATION"
   ]
  },
  {
   "cell_type": "code",
   "execution_count": 62,
   "metadata": {},
   "outputs": [],
   "source": [
    "from sklearn.ensemble import RandomForestClassifier\n",
    "#divide the data 7:3\n",
    "X_train, X_test, y_train, y_test = train_test_split(X_tfidf, y_new,test_size=0.33,random_state=42)\n",
    "\n",
    "\n"
   ]
  },
  {
   "cell_type": "code",
   "execution_count": 63,
   "metadata": {},
   "outputs": [
    {
     "name": "stdout",
     "output_type": "stream",
     "text": [
      "Number of combinations = 1600\n"
     ]
    },
    {
     "data": {
      "text/plain": [
       "{'n_estimators': [10, 60, 110, 160, 210],\n",
       " 'criterion': ['gini', 'entropy'],\n",
       " 'max_depth': [5, 15, 25, 35, None],\n",
       " 'min_samples_split': [0.005, 0.015, 0.025, 0.035],\n",
       " 'min_samples_leaf': [0.005, 0.015, 0.025, 0.035],\n",
       " 'max_features': ['sqrt', 'log2']}"
      ]
     },
     "execution_count": 63,
     "metadata": {},
     "output_type": "execute_result"
    }
   ],
   "source": [
    "#number of trees that will be used as hyperparamter with a list starting from 10 to 220 at a interval of 50\n",
    "n_estimators_list=list(range(10,220,50))\n",
    "#best fit calculation for decision tree with two possible values \n",
    "criterion_list=['gini','entropy']\n",
    "max_depth_list=list(range(5,41,10))\n",
    "max_depth_list.append(None)\n",
    "min_samples_split_list=[x/1000 for x in list (range (5,41,10))]\n",
    "min_samples_leaf_list=[x/1000 for x in list (range (5,41,10))]\n",
    "max_features_list=['sqrt','log2']\n",
    "\n",
    "params_grid= {\n",
    "    'n_estimators': n_estimators_list,\n",
    "    'criterion': criterion_list,\n",
    "    'max_depth': max_depth_list,\n",
    "    'min_samples_split': min_samples_split_list,\n",
    "    'min_samples_leaf': min_samples_leaf_list,\n",
    "    'max_features': max_features_list        \n",
    "}\n",
    "\n",
    "num_combinations = 1\n",
    "for k in params_grid.keys(): num_combinations *=len(params_grid[k])\n",
    "    \n",
    "print('Number of combinations =', num_combinations)\n",
    "params_grid"
   ]
  },
  {
   "cell_type": "code",
   "execution_count": 66,
   "metadata": {},
   "outputs": [
    {
     "data": {
      "text/html": [
       "<style>#sk-container-id-1 {color: black;background-color: white;}#sk-container-id-1 pre{padding: 0;}#sk-container-id-1 div.sk-toggleable {background-color: white;}#sk-container-id-1 label.sk-toggleable__label {cursor: pointer;display: block;width: 100%;margin-bottom: 0;padding: 0.3em;box-sizing: border-box;text-align: center;}#sk-container-id-1 label.sk-toggleable__label-arrow:before {content: \"▸\";float: left;margin-right: 0.25em;color: #696969;}#sk-container-id-1 label.sk-toggleable__label-arrow:hover:before {color: black;}#sk-container-id-1 div.sk-estimator:hover label.sk-toggleable__label-arrow:before {color: black;}#sk-container-id-1 div.sk-toggleable__content {max-height: 0;max-width: 0;overflow: hidden;text-align: left;background-color: #f0f8ff;}#sk-container-id-1 div.sk-toggleable__content pre {margin: 0.2em;color: black;border-radius: 0.25em;background-color: #f0f8ff;}#sk-container-id-1 input.sk-toggleable__control:checked~div.sk-toggleable__content {max-height: 200px;max-width: 100%;overflow: auto;}#sk-container-id-1 input.sk-toggleable__control:checked~label.sk-toggleable__label-arrow:before {content: \"▾\";}#sk-container-id-1 div.sk-estimator input.sk-toggleable__control:checked~label.sk-toggleable__label {background-color: #d4ebff;}#sk-container-id-1 div.sk-label input.sk-toggleable__control:checked~label.sk-toggleable__label {background-color: #d4ebff;}#sk-container-id-1 input.sk-hidden--visually {border: 0;clip: rect(1px 1px 1px 1px);clip: rect(1px, 1px, 1px, 1px);height: 1px;margin: -1px;overflow: hidden;padding: 0;position: absolute;width: 1px;}#sk-container-id-1 div.sk-estimator {font-family: monospace;background-color: #f0f8ff;border: 1px dotted black;border-radius: 0.25em;box-sizing: border-box;margin-bottom: 0.5em;}#sk-container-id-1 div.sk-estimator:hover {background-color: #d4ebff;}#sk-container-id-1 div.sk-parallel-item::after {content: \"\";width: 100%;border-bottom: 1px solid gray;flex-grow: 1;}#sk-container-id-1 div.sk-label:hover label.sk-toggleable__label {background-color: #d4ebff;}#sk-container-id-1 div.sk-serial::before {content: \"\";position: absolute;border-left: 1px solid gray;box-sizing: border-box;top: 0;bottom: 0;left: 50%;z-index: 0;}#sk-container-id-1 div.sk-serial {display: flex;flex-direction: column;align-items: center;background-color: white;padding-right: 0.2em;padding-left: 0.2em;position: relative;}#sk-container-id-1 div.sk-item {position: relative;z-index: 1;}#sk-container-id-1 div.sk-parallel {display: flex;align-items: stretch;justify-content: center;background-color: white;position: relative;}#sk-container-id-1 div.sk-item::before, #sk-container-id-1 div.sk-parallel-item::before {content: \"\";position: absolute;border-left: 1px solid gray;box-sizing: border-box;top: 0;bottom: 0;left: 50%;z-index: -1;}#sk-container-id-1 div.sk-parallel-item {display: flex;flex-direction: column;z-index: 1;position: relative;background-color: white;}#sk-container-id-1 div.sk-parallel-item:first-child::after {align-self: flex-end;width: 50%;}#sk-container-id-1 div.sk-parallel-item:last-child::after {align-self: flex-start;width: 50%;}#sk-container-id-1 div.sk-parallel-item:only-child::after {width: 0;}#sk-container-id-1 div.sk-dashed-wrapped {border: 1px dashed gray;margin: 0 0.4em 0.5em 0.4em;box-sizing: border-box;padding-bottom: 0.4em;background-color: white;}#sk-container-id-1 div.sk-label label {font-family: monospace;font-weight: bold;display: inline-block;line-height: 1.2em;}#sk-container-id-1 div.sk-label-container {text-align: center;}#sk-container-id-1 div.sk-container {/* jupyter's `normalize.less` sets `[hidden] { display: none; }` but bootstrap.min.css set `[hidden] { display: none !important; }` so we also need the `!important` here to be able to override the default hidden behavior on the sphinx rendered scikit-learn.org. See: https://github.com/scikit-learn/scikit-learn/issues/21755 */display: inline-block !important;position: relative;}#sk-container-id-1 div.sk-text-repr-fallback {display: none;}</style><div id=\"sk-container-id-1\" class=\"sk-top-container\"><div class=\"sk-text-repr-fallback\"><pre>RandomizedSearchCV(cv=10, estimator=RandomForestClassifier(), n_iter=50,\n",
       "                   param_distributions={&#x27;criterion&#x27;: [&#x27;gini&#x27;, &#x27;entropy&#x27;],\n",
       "                                        &#x27;max_depth&#x27;: [5, 15, 25, 35, None],\n",
       "                                        &#x27;max_features&#x27;: [&#x27;sqrt&#x27;, &#x27;log2&#x27;],\n",
       "                                        &#x27;min_samples_leaf&#x27;: [0.005, 0.015,\n",
       "                                                             0.025, 0.035],\n",
       "                                        &#x27;min_samples_split&#x27;: [0.005, 0.015,\n",
       "                                                              0.025, 0.035],\n",
       "                                        &#x27;n_estimators&#x27;: [10, 60, 110, 160,\n",
       "                                                         210]},\n",
       "                   return_train_score=True)</pre><b>In a Jupyter environment, please rerun this cell to show the HTML representation or trust the notebook. <br />On GitHub, the HTML representation is unable to render, please try loading this page with nbviewer.org.</b></div><div class=\"sk-container\" hidden><div class=\"sk-item sk-dashed-wrapped\"><div class=\"sk-label-container\"><div class=\"sk-label sk-toggleable\"><input class=\"sk-toggleable__control sk-hidden--visually\" id=\"sk-estimator-id-1\" type=\"checkbox\" ><label for=\"sk-estimator-id-1\" class=\"sk-toggleable__label sk-toggleable__label-arrow\">RandomizedSearchCV</label><div class=\"sk-toggleable__content\"><pre>RandomizedSearchCV(cv=10, estimator=RandomForestClassifier(), n_iter=50,\n",
       "                   param_distributions={&#x27;criterion&#x27;: [&#x27;gini&#x27;, &#x27;entropy&#x27;],\n",
       "                                        &#x27;max_depth&#x27;: [5, 15, 25, 35, None],\n",
       "                                        &#x27;max_features&#x27;: [&#x27;sqrt&#x27;, &#x27;log2&#x27;],\n",
       "                                        &#x27;min_samples_leaf&#x27;: [0.005, 0.015,\n",
       "                                                             0.025, 0.035],\n",
       "                                        &#x27;min_samples_split&#x27;: [0.005, 0.015,\n",
       "                                                              0.025, 0.035],\n",
       "                                        &#x27;n_estimators&#x27;: [10, 60, 110, 160,\n",
       "                                                         210]},\n",
       "                   return_train_score=True)</pre></div></div></div><div class=\"sk-parallel\"><div class=\"sk-parallel-item\"><div class=\"sk-item\"><div class=\"sk-label-container\"><div class=\"sk-label sk-toggleable\"><input class=\"sk-toggleable__control sk-hidden--visually\" id=\"sk-estimator-id-2\" type=\"checkbox\" ><label for=\"sk-estimator-id-2\" class=\"sk-toggleable__label sk-toggleable__label-arrow\">estimator: RandomForestClassifier</label><div class=\"sk-toggleable__content\"><pre>RandomForestClassifier()</pre></div></div></div><div class=\"sk-serial\"><div class=\"sk-item\"><div class=\"sk-estimator sk-toggleable\"><input class=\"sk-toggleable__control sk-hidden--visually\" id=\"sk-estimator-id-3\" type=\"checkbox\" ><label for=\"sk-estimator-id-3\" class=\"sk-toggleable__label sk-toggleable__label-arrow\">RandomForestClassifier</label><div class=\"sk-toggleable__content\"><pre>RandomForestClassifier()</pre></div></div></div></div></div></div></div></div></div></div>"
      ],
      "text/plain": [
       "RandomizedSearchCV(cv=10, estimator=RandomForestClassifier(), n_iter=50,\n",
       "                   param_distributions={'criterion': ['gini', 'entropy'],\n",
       "                                        'max_depth': [5, 15, 25, 35, None],\n",
       "                                        'max_features': ['sqrt', 'log2'],\n",
       "                                        'min_samples_leaf': [0.005, 0.015,\n",
       "                                                             0.025, 0.035],\n",
       "                                        'min_samples_split': [0.005, 0.015,\n",
       "                                                              0.025, 0.035],\n",
       "                                        'n_estimators': [10, 60, 110, 160,\n",
       "                                                         210]},\n",
       "                   return_train_score=True)"
      ]
     },
     "execution_count": 66,
     "metadata": {},
     "output_type": "execute_result"
    }
   ],
   "source": [
    "from sklearn.model_selection import RandomizedSearchCV\n",
    "def my_roc_auc_score(model, X_train, y_train): return metrics.roc_auc_score(y_test, model.predict(X_test))\n",
    "\n",
    "model_rf= RandomizedSearchCV(estimator=RandomForestClassifier(),\n",
    "                             param_distributions=params_grid,\n",
    "                             n_iter=50,\n",
    "                             cv=10,\n",
    "                             return_train_score=True)\n",
    "model_rf.fit(X_train,y_train)\n",
    "                            "
   ]
  },
  {
   "cell_type": "code",
   "execution_count": 67,
   "metadata": {},
   "outputs": [
    {
     "data": {
      "text/plain": [
       "{'n_estimators': 210,\n",
       " 'min_samples_split': 0.005,\n",
       " 'min_samples_leaf': 0.005,\n",
       " 'max_features': 'log2',\n",
       " 'max_depth': 35,\n",
       " 'criterion': 'gini'}"
      ]
     },
     "execution_count": 67,
     "metadata": {},
     "output_type": "execute_result"
    }
   ],
   "source": [
    "model_rf.best_params_"
   ]
  },
  {
   "cell_type": "code",
   "execution_count": 68,
   "metadata": {},
   "outputs": [
    {
     "data": {
      "text/html": [
       "<style>#sk-container-id-2 {color: black;background-color: white;}#sk-container-id-2 pre{padding: 0;}#sk-container-id-2 div.sk-toggleable {background-color: white;}#sk-container-id-2 label.sk-toggleable__label {cursor: pointer;display: block;width: 100%;margin-bottom: 0;padding: 0.3em;box-sizing: border-box;text-align: center;}#sk-container-id-2 label.sk-toggleable__label-arrow:before {content: \"▸\";float: left;margin-right: 0.25em;color: #696969;}#sk-container-id-2 label.sk-toggleable__label-arrow:hover:before {color: black;}#sk-container-id-2 div.sk-estimator:hover label.sk-toggleable__label-arrow:before {color: black;}#sk-container-id-2 div.sk-toggleable__content {max-height: 0;max-width: 0;overflow: hidden;text-align: left;background-color: #f0f8ff;}#sk-container-id-2 div.sk-toggleable__content pre {margin: 0.2em;color: black;border-radius: 0.25em;background-color: #f0f8ff;}#sk-container-id-2 input.sk-toggleable__control:checked~div.sk-toggleable__content {max-height: 200px;max-width: 100%;overflow: auto;}#sk-container-id-2 input.sk-toggleable__control:checked~label.sk-toggleable__label-arrow:before {content: \"▾\";}#sk-container-id-2 div.sk-estimator input.sk-toggleable__control:checked~label.sk-toggleable__label {background-color: #d4ebff;}#sk-container-id-2 div.sk-label input.sk-toggleable__control:checked~label.sk-toggleable__label {background-color: #d4ebff;}#sk-container-id-2 input.sk-hidden--visually {border: 0;clip: rect(1px 1px 1px 1px);clip: rect(1px, 1px, 1px, 1px);height: 1px;margin: -1px;overflow: hidden;padding: 0;position: absolute;width: 1px;}#sk-container-id-2 div.sk-estimator {font-family: monospace;background-color: #f0f8ff;border: 1px dotted black;border-radius: 0.25em;box-sizing: border-box;margin-bottom: 0.5em;}#sk-container-id-2 div.sk-estimator:hover {background-color: #d4ebff;}#sk-container-id-2 div.sk-parallel-item::after {content: \"\";width: 100%;border-bottom: 1px solid gray;flex-grow: 1;}#sk-container-id-2 div.sk-label:hover label.sk-toggleable__label {background-color: #d4ebff;}#sk-container-id-2 div.sk-serial::before {content: \"\";position: absolute;border-left: 1px solid gray;box-sizing: border-box;top: 0;bottom: 0;left: 50%;z-index: 0;}#sk-container-id-2 div.sk-serial {display: flex;flex-direction: column;align-items: center;background-color: white;padding-right: 0.2em;padding-left: 0.2em;position: relative;}#sk-container-id-2 div.sk-item {position: relative;z-index: 1;}#sk-container-id-2 div.sk-parallel {display: flex;align-items: stretch;justify-content: center;background-color: white;position: relative;}#sk-container-id-2 div.sk-item::before, #sk-container-id-2 div.sk-parallel-item::before {content: \"\";position: absolute;border-left: 1px solid gray;box-sizing: border-box;top: 0;bottom: 0;left: 50%;z-index: -1;}#sk-container-id-2 div.sk-parallel-item {display: flex;flex-direction: column;z-index: 1;position: relative;background-color: white;}#sk-container-id-2 div.sk-parallel-item:first-child::after {align-self: flex-end;width: 50%;}#sk-container-id-2 div.sk-parallel-item:last-child::after {align-self: flex-start;width: 50%;}#sk-container-id-2 div.sk-parallel-item:only-child::after {width: 0;}#sk-container-id-2 div.sk-dashed-wrapped {border: 1px dashed gray;margin: 0 0.4em 0.5em 0.4em;box-sizing: border-box;padding-bottom: 0.4em;background-color: white;}#sk-container-id-2 div.sk-label label {font-family: monospace;font-weight: bold;display: inline-block;line-height: 1.2em;}#sk-container-id-2 div.sk-label-container {text-align: center;}#sk-container-id-2 div.sk-container {/* jupyter's `normalize.less` sets `[hidden] { display: none; }` but bootstrap.min.css set `[hidden] { display: none !important; }` so we also need the `!important` here to be able to override the default hidden behavior on the sphinx rendered scikit-learn.org. See: https://github.com/scikit-learn/scikit-learn/issues/21755 */display: inline-block !important;position: relative;}#sk-container-id-2 div.sk-text-repr-fallback {display: none;}</style><div id=\"sk-container-id-2\" class=\"sk-top-container\"><div class=\"sk-text-repr-fallback\"><pre>RandomForestClassifier(max_depth=35, max_features=&#x27;log2&#x27;,\n",
       "                       min_samples_leaf=0.005, min_samples_split=0.005,\n",
       "                       n_estimators=210, random_state=42)</pre><b>In a Jupyter environment, please rerun this cell to show the HTML representation or trust the notebook. <br />On GitHub, the HTML representation is unable to render, please try loading this page with nbviewer.org.</b></div><div class=\"sk-container\" hidden><div class=\"sk-item\"><div class=\"sk-estimator sk-toggleable\"><input class=\"sk-toggleable__control sk-hidden--visually\" id=\"sk-estimator-id-4\" type=\"checkbox\" checked><label for=\"sk-estimator-id-4\" class=\"sk-toggleable__label sk-toggleable__label-arrow\">RandomForestClassifier</label><div class=\"sk-toggleable__content\"><pre>RandomForestClassifier(max_depth=35, max_features=&#x27;log2&#x27;,\n",
       "                       min_samples_leaf=0.005, min_samples_split=0.005,\n",
       "                       n_estimators=210, random_state=42)</pre></div></div></div></div></div>"
      ],
      "text/plain": [
       "RandomForestClassifier(max_depth=35, max_features='log2',\n",
       "                       min_samples_leaf=0.005, min_samples_split=0.005,\n",
       "                       n_estimators=210, random_state=42)"
      ]
     },
     "execution_count": 68,
     "metadata": {},
     "output_type": "execute_result"
    }
   ],
   "source": [
    "#creating final model for random forest\n",
    "model_rf_fin=RandomForestClassifier(\n",
    "                                   criterion='gini',\n",
    "                                   max_features='log2',\n",
    "                                   min_samples_leaf=0.005,\n",
    "                                   min_samples_split=0.005,\n",
    "                                   n_estimators=210,\n",
    "                                   max_depth=35,\n",
    "                                   random_state=42)\n",
    "model_rf_fin.fit(X_train,y_train)"
   ]
  },
  {
   "cell_type": "code",
   "execution_count": 69,
   "metadata": {},
   "outputs": [],
   "source": [
    "predictions = model_rf_fin.predict(X_test)"
   ]
  },
  {
   "cell_type": "code",
   "execution_count": 70,
   "metadata": {},
   "outputs": [
    {
     "name": "stdout",
     "output_type": "stream",
     "text": [
      "[[1798    0    4    1    2    0    1    0]\n",
      " [   0 1468    1    2    0   72    0  178]\n",
      " [   0    0 1564    0    0    0    0  219]\n",
      " [   7    7  149 1468    0    0    0  111]\n",
      " [  19    0    7    0 1693    4    0   72]\n",
      " [  25    0    3    0   84 1624    0   43]\n",
      " [   0    1    0    0    8  177 1621   12]\n",
      " [   0    0    0    0    0    0    0 1819]]\n"
     ]
    }
   ],
   "source": [
    "from sklearn.metrics import confusion_matrix,classification_report\n",
    "print(confusion_matrix(y_test,predictions))"
   ]
  },
  {
   "cell_type": "code",
   "execution_count": 71,
   "metadata": {},
   "outputs": [
    {
     "name": "stdout",
     "output_type": "stream",
     "text": [
      "              precision    recall  f1-score   support\n",
      "\n",
      "           0       0.97      1.00      0.98      1806\n",
      "           1       0.99      0.85      0.92      1721\n",
      "           2       0.91      0.88      0.89      1783\n",
      "           3       1.00      0.84      0.91      1742\n",
      "           4       0.95      0.94      0.95      1795\n",
      "           5       0.87      0.91      0.89      1779\n",
      "           6       1.00      0.89      0.94      1819\n",
      "           7       0.74      1.00      0.85      1819\n",
      "\n",
      "    accuracy                           0.92     14264\n",
      "   macro avg       0.93      0.91      0.92     14264\n",
      "weighted avg       0.93      0.92      0.92     14264\n",
      "\n"
     ]
    }
   ],
   "source": [
    "print(classification_report(y_test,predictions))"
   ]
  },
  {
   "cell_type": "code",
   "execution_count": 72,
   "metadata": {},
   "outputs": [
    {
     "name": "stderr",
     "output_type": "stream",
     "text": [
      "C:\\Users\\TMHBXB78\\Anaconda3\\lib\\site-packages\\sklearn\\utils\\deprecation.py:87: FutureWarning: Function plot_confusion_matrix is deprecated; Function `plot_confusion_matrix` is deprecated in 1.0 and will be removed in 1.2. Use one of the class methods: ConfusionMatrixDisplay.from_predictions or ConfusionMatrixDisplay.from_estimator.\n",
      "  warnings.warn(msg, category=FutureWarning)\n"
     ]
    },
    {
     "data": {
      "text/plain": [
       "<sklearn.metrics._plot.confusion_matrix.ConfusionMatrixDisplay at 0x27aebdfb820>"
      ]
     },
     "execution_count": 72,
     "metadata": {},
     "output_type": "execute_result"
    },
    {
     "data": {
      "image/png": "[encoded data removed]",
      "text/plain": [
       "<Figure size 432x288 with 2 Axes>"
      ]
     },
     "metadata": {
      "needs_background": "light"
     },
     "output_type": "display_data"
    }
   ],
   "source": [
    "plot_confusion_matrix(model_rf_fin,X_test,y_test)"
   ]
  },
  {
   "cell_type": "code",
   "execution_count": 73,
   "metadata": {},
   "outputs": [
    {
     "data": {
      "text/plain": [
       "0.9152411665731912"
      ]
     },
     "execution_count": 73,
     "metadata": {},
     "output_type": "execute_result"
    }
   ],
   "source": [
    "from sklearn import metrics\n",
    "metrics.accuracy_score(y_test,predictions)"
   ]
  },
  {
   "cell_type": "markdown",
   "metadata": {},
   "source": [
    "# FINAL :1ST method(7:3): BOW+TFIDF+SMOTE+SVM"
   ]
  },
  {
   "cell_type": "code",
   "execution_count": 74,
   "metadata": {},
   "outputs": [],
   "source": [
    "from sklearn.svm import LinearSVC\n",
    "from sklearn.pipeline import Pipeline\n",
    "\n",
    "text_clf=make_pipeline(LinearSVC())\n",
    "text_clf.fit(X_train,y_train)\n",
    "predictions = text_clf.predict(X_test)"
   ]
  },
  {
   "cell_type": "code",
   "execution_count": 75,
   "metadata": {},
   "outputs": [
    {
     "name": "stdout",
     "output_type": "stream",
     "text": [
      "[[1806    0    0    0    0    0    0    0]\n",
      " [   0 1721    0    0    0    0    0    0]\n",
      " [   0    0 1783    0    0    0    0    0]\n",
      " [   0    0    0 1742    0    0    0    0]\n",
      " [   0    0    0    0 1795    0    0    0]\n",
      " [   0    0    0    0    0 1779    0    0]\n",
      " [   0    1    0    1    0    0 1817    0]\n",
      " [   0    0    0    0    0    0    0 1819]]\n"
     ]
    }
   ],
   "source": [
    "from sklearn.metrics import confusion_matrix,classification_report\n",
    "print(confusion_matrix(y_test,predictions))"
   ]
  },
  {
   "cell_type": "code",
   "execution_count": 76,
   "metadata": {},
   "outputs": [
    {
     "name": "stdout",
     "output_type": "stream",
     "text": [
      "              precision    recall  f1-score   support\n",
      "\n",
      "           0       1.00      1.00      1.00      1806\n",
      "           1       1.00      1.00      1.00      1721\n",
      "           2       1.00      1.00      1.00      1783\n",
      "           3       1.00      1.00      1.00      1742\n",
      "           4       1.00      1.00      1.00      1795\n",
      "           5       1.00      1.00      1.00      1779\n",
      "           6       1.00      1.00      1.00      1819\n",
      "           7       1.00      1.00      1.00      1819\n",
      "\n",
      "    accuracy                           1.00     14264\n",
      "   macro avg       1.00      1.00      1.00     14264\n",
      "weighted avg       1.00      1.00      1.00     14264\n",
      "\n"
     ]
    }
   ],
   "source": [
    "print(classification_report(y_test,predictions))"
   ]
  },
  {
   "cell_type": "code",
   "execution_count": 77,
   "metadata": {},
   "outputs": [
    {
     "name": "stderr",
     "output_type": "stream",
     "text": [
      "C:\\Users\\TMHBXB78\\Anaconda3\\lib\\site-packages\\sklearn\\utils\\deprecation.py:87: FutureWarning: Function plot_confusion_matrix is deprecated; Function `plot_confusion_matrix` is deprecated in 1.0 and will be removed in 1.2. Use one of the class methods: ConfusionMatrixDisplay.from_predictions or ConfusionMatrixDisplay.from_estimator.\n",
      "  warnings.warn(msg, category=FutureWarning)\n"
     ]
    },
    {
     "data": {
      "text/plain": [
       "<sklearn.metrics._plot.confusion_matrix.ConfusionMatrixDisplay at 0x27ae9f778b0>"
      ]
     },
     "execution_count": 77,
     "metadata": {},
     "output_type": "execute_result"
    },
    {
     "data": {
      "image/png": "[encoded data removed]",
      "text/plain": [
       "<Figure size 432x288 with 2 Axes>"
      ]
     },
     "metadata": {
      "needs_background": "light"
     },
     "output_type": "display_data"
    }
   ],
   "source": [
    "plot_confusion_matrix(text_clf,X_test,y_test)"
   ]
  },
  {
   "cell_type": "markdown",
   "metadata": {},
   "source": [
    "# FINAL :1ST method(7:3): BOW+TFIDF+SMOTE+XGBOOST"
   ]
  },
  {
   "cell_type": "code",
   "execution_count": 78,
   "metadata": {},
   "outputs": [],
   "source": [
    "from numpy import loadtxt\n",
    "from xgboost import XGBClassifier\n",
    "\n",
    "text_clf=make_pipeline(XGBClassifier())\n",
    "text_clf.fit(X_train,y_train)\n",
    "predictions = text_clf.predict(X_test)"
   ]
  },
  {
   "cell_type": "code",
   "execution_count": 79,
   "metadata": {},
   "outputs": [
    {
     "name": "stdout",
     "output_type": "stream",
     "text": [
      "[[1805    0    0    0    0    0    1    0]\n",
      " [   0 1719    0    0    0    0    1    1]\n",
      " [   0    0 1783    0    0    0    0    0]\n",
      " [   0    0    0 1742    0    0    0    0]\n",
      " [   0    0    0    0 1795    0    0    0]\n",
      " [   0    0    0    0    1 1778    0    0]\n",
      " [   0    0    0    0    0    0 1819    0]\n",
      " [   0    0    0    0    0    0    0 1819]]\n"
     ]
    }
   ],
   "source": [
    "from sklearn.metrics import confusion_matrix,classification_report\n",
    "print(confusion_matrix(y_test,predictions))"
   ]
  },
  {
   "cell_type": "code",
   "execution_count": 80,
   "metadata": {},
   "outputs": [
    {
     "name": "stdout",
     "output_type": "stream",
     "text": [
      "              precision    recall  f1-score   support\n",
      "\n",
      "           0       1.00      1.00      1.00      1806\n",
      "           1       1.00      1.00      1.00      1721\n",
      "           2       1.00      1.00      1.00      1783\n",
      "           3       1.00      1.00      1.00      1742\n",
      "           4       1.00      1.00      1.00      1795\n",
      "           5       1.00      1.00      1.00      1779\n",
      "           6       1.00      1.00      1.00      1819\n",
      "           7       1.00      1.00      1.00      1819\n",
      "\n",
      "    accuracy                           1.00     14264\n",
      "   macro avg       1.00      1.00      1.00     14264\n",
      "weighted avg       1.00      1.00      1.00     14264\n",
      "\n"
     ]
    }
   ],
   "source": [
    "print(classification_report(y_test,predictions))"
   ]
  },
  {
   "cell_type": "code",
   "execution_count": 81,
   "metadata": {},
   "outputs": [
    {
     "name": "stderr",
     "output_type": "stream",
     "text": [
      "C:\\Users\\TMHBXB78\\Anaconda3\\lib\\site-packages\\sklearn\\utils\\deprecation.py:87: FutureWarning: Function plot_confusion_matrix is deprecated; Function `plot_confusion_matrix` is deprecated in 1.0 and will be removed in 1.2. Use one of the class methods: ConfusionMatrixDisplay.from_predictions or ConfusionMatrixDisplay.from_estimator.\n",
      "  warnings.warn(msg, category=FutureWarning)\n"
     ]
    },
    {
     "data": {
      "text/plain": [
       "<sklearn.metrics._plot.confusion_matrix.ConfusionMatrixDisplay at 0x27ae9f6ac40>"
      ]
     },
     "execution_count": 81,
     "metadata": {},
     "output_type": "execute_result"
    },
    {
     "data": {
      "image/png": "[encoded data removed]",
      "text/plain": [
       "<Figure size 432x288 with 2 Axes>"
      ]
     },
     "metadata": {
      "needs_background": "light"
     },
     "output_type": "display_data"
    }
   ],
   "source": [
    "plot_confusion_matrix(text_clf,X_test,y_test)"
   ]
  },
  {
   "cell_type": "markdown",
   "metadata": {},
   "source": [
    "# 2ND method(7:3): BOW+TFIDF+SMOTE+RANDOM FOREST+HYPERPARAMETER OPTIMIZATION USING RANDOMIZED SEARCH CROSS VALIDATION"
   ]
  },
  {
   "cell_type": "code",
   "execution_count": 82,
   "metadata": {},
   "outputs": [
    {
     "name": "stdout",
     "output_type": "stream",
     "text": [
      "Class=5, n=5403 (12.500%)\n",
      "Class=6, n=5403 (12.500%)\n",
      "Class=3, n=5403 (12.500%)\n",
      "Class=4, n=5403 (12.500%)\n",
      "Class=1, n=5403 (12.500%)\n",
      "Class=2, n=5403 (12.500%)\n",
      "Class=7, n=5403 (12.500%)\n",
      "Class=0, n=5403 (12.500%)\n"
     ]
    },
    {
     "data": {
      "image/png": "[encoded data removed]",
      "text/plain": [
       "<Figure size 432x288 with 1 Axes>"
      ]
     },
     "metadata": {
      "needs_background": "light"
     },
     "output_type": "display_data"
    }
   ],
   "source": [
    "oversample = SMOTE()\n",
    "X_tfidf, y_new = oversample.fit_resample(X_tfidf, y_new)\n",
    "counterx = Counter(y_new)\n",
    "for k,v in counterx.items():\n",
    "    per = v / len(y_new) * 100\n",
    "    print('Class=%d, n=%d (%.3f%%)' % (k, v, per))\n",
    "\n",
    "pyplot.bar(counterx.keys(), counterx.values())\n",
    "pyplot.show()"
   ]
  },
  {
   "cell_type": "code",
   "execution_count": 83,
   "metadata": {},
   "outputs": [],
   "source": [
    "from sklearn.ensemble import RandomForestClassifier\n",
    "#divide the data 7:3\n",
    "X_train, X_test, y_train, y_test = train_test_split(X_tfidf, y_new,test_size=0.33,random_state=42)"
   ]
  },
  {
   "cell_type": "code",
   "execution_count": 84,
   "metadata": {},
   "outputs": [
    {
     "name": "stdout",
     "output_type": "stream",
     "text": [
      "Number of combinations = 1600\n"
     ]
    },
    {
     "data": {
      "text/plain": [
       "{'n_estimators': [10, 60, 110, 160, 210],\n",
       " 'criterion': ['gini', 'entropy'],\n",
       " 'max_depth': [5, 15, 25, 35, None],\n",
       " 'min_samples_split': [0.005, 0.015, 0.025, 0.035],\n",
       " 'min_samples_leaf': [0.005, 0.015, 0.025, 0.035],\n",
       " 'max_features': ['sqrt', 'log2']}"
      ]
     },
     "execution_count": 84,
     "metadata": {},
     "output_type": "execute_result"
    }
   ],
   "source": [
    "#number of trees that will be used as hyperparamter with a list starting from 10 to 220 at a interval of 50\n",
    "n_estimators_list=list(range(10,220,50))\n",
    "#best fit calculation for decision tree with two possible values \n",
    "criterion_list=['gini','entropy']\n",
    "max_depth_list=list(range(5,41,10))\n",
    "max_depth_list.append(None)\n",
    "min_samples_split_list=[x/1000 for x in list (range (5,41,10))]\n",
    "min_samples_leaf_list=[x/1000 for x in list (range (5,41,10))]\n",
    "max_features_list=['sqrt','log2']\n",
    "\n",
    "params_grid= {\n",
    "    'n_estimators': n_estimators_list,\n",
    "    'criterion': criterion_list,\n",
    "    'max_depth': max_depth_list,\n",
    "    'min_samples_split': min_samples_split_list,\n",
    "    'min_samples_leaf': min_samples_leaf_list,\n",
    "    'max_features': max_features_list        \n",
    "}\n",
    "\n",
    "num_combinations = 1\n",
    "for k in params_grid.keys(): num_combinations *=len(params_grid[k])\n",
    "    \n",
    "print('Number of combinations =', num_combinations)\n",
    "params_grid"
   ]
  },
  {
   "cell_type": "code",
   "execution_count": 85,
   "metadata": {},
   "outputs": [
    {
     "data": {
      "text/html": [
       "<style>#sk-container-id-3 {color: black;background-color: white;}#sk-container-id-3 pre{padding: 0;}#sk-container-id-3 div.sk-toggleable {background-color: white;}#sk-container-id-3 label.sk-toggleable__label {cursor: pointer;display: block;width: 100%;margin-bottom: 0;padding: 0.3em;box-sizing: border-box;text-align: center;}#sk-container-id-3 label.sk-toggleable__label-arrow:before {content: \"▸\";float: left;margin-right: 0.25em;color: #696969;}#sk-container-id-3 label.sk-toggleable__label-arrow:hover:before {color: black;}#sk-container-id-3 div.sk-estimator:hover label.sk-toggleable__label-arrow:before {color: black;}#sk-container-id-3 div.sk-toggleable__content {max-height: 0;max-width: 0;overflow: hidden;text-align: left;background-color: #f0f8ff;}#sk-container-id-3 div.sk-toggleable__content pre {margin: 0.2em;color: black;border-radius: 0.25em;background-color: #f0f8ff;}#sk-container-id-3 input.sk-toggleable__control:checked~div.sk-toggleable__content {max-height: 200px;max-width: 100%;overflow: auto;}#sk-container-id-3 input.sk-toggleable__control:checked~label.sk-toggleable__label-arrow:before {content: \"▾\";}#sk-container-id-3 div.sk-estimator input.sk-toggleable__control:checked~label.sk-toggleable__label {background-color: #d4ebff;}#sk-container-id-3 div.sk-label input.sk-toggleable__control:checked~label.sk-toggleable__label {background-color: #d4ebff;}#sk-container-id-3 input.sk-hidden--visually {border: 0;clip: rect(1px 1px 1px 1px);clip: rect(1px, 1px, 1px, 1px);height: 1px;margin: -1px;overflow: hidden;padding: 0;position: absolute;width: 1px;}#sk-container-id-3 div.sk-estimator {font-family: monospace;background-color: #f0f8ff;border: 1px dotted black;border-radius: 0.25em;box-sizing: border-box;margin-bottom: 0.5em;}#sk-container-id-3 div.sk-estimator:hover {background-color: #d4ebff;}#sk-container-id-3 div.sk-parallel-item::after {content: \"\";width: 100%;border-bottom: 1px solid gray;flex-grow: 1;}#sk-container-id-3 div.sk-label:hover label.sk-toggleable__label {background-color: #d4ebff;}#sk-container-id-3 div.sk-serial::before {content: \"\";position: absolute;border-left: 1px solid gray;box-sizing: border-box;top: 0;bottom: 0;left: 50%;z-index: 0;}#sk-container-id-3 div.sk-serial {display: flex;flex-direction: column;align-items: center;background-color: white;padding-right: 0.2em;padding-left: 0.2em;position: relative;}#sk-container-id-3 div.sk-item {position: relative;z-index: 1;}#sk-container-id-3 div.sk-parallel {display: flex;align-items: stretch;justify-content: center;background-color: white;position: relative;}#sk-container-id-3 div.sk-item::before, #sk-container-id-3 div.sk-parallel-item::before {content: \"\";position: absolute;border-left: 1px solid gray;box-sizing: border-box;top: 0;bottom: 0;left: 50%;z-index: -1;}#sk-container-id-3 div.sk-parallel-item {display: flex;flex-direction: column;z-index: 1;position: relative;background-color: white;}#sk-container-id-3 div.sk-parallel-item:first-child::after {align-self: flex-end;width: 50%;}#sk-container-id-3 div.sk-parallel-item:last-child::after {align-self: flex-start;width: 50%;}#sk-container-id-3 div.sk-parallel-item:only-child::after {width: 0;}#sk-container-id-3 div.sk-dashed-wrapped {border: 1px dashed gray;margin: 0 0.4em 0.5em 0.4em;box-sizing: border-box;padding-bottom: 0.4em;background-color: white;}#sk-container-id-3 div.sk-label label {font-family: monospace;font-weight: bold;display: inline-block;line-height: 1.2em;}#sk-container-id-3 div.sk-label-container {text-align: center;}#sk-container-id-3 div.sk-container {/* jupyter's `normalize.less` sets `[hidden] { display: none; }` but bootstrap.min.css set `[hidden] { display: none !important; }` so we also need the `!important` here to be able to override the default hidden behavior on the sphinx rendered scikit-learn.org. See: https://github.com/scikit-learn/scikit-learn/issues/21755 */display: inline-block !important;position: relative;}#sk-container-id-3 div.sk-text-repr-fallback {display: none;}</style><div id=\"sk-container-id-3\" class=\"sk-top-container\"><div class=\"sk-text-repr-fallback\"><pre>RandomizedSearchCV(cv=10,\n",
       "                   estimator=RandomForestClassifier(class_weight=&#x27;balanced&#x27;),\n",
       "                   n_iter=50,\n",
       "                   param_distributions={&#x27;criterion&#x27;: [&#x27;gini&#x27;, &#x27;entropy&#x27;],\n",
       "                                        &#x27;max_depth&#x27;: [5, 15, 25, 35, None],\n",
       "                                        &#x27;max_features&#x27;: [&#x27;sqrt&#x27;, &#x27;log2&#x27;],\n",
       "                                        &#x27;min_samples_leaf&#x27;: [0.005, 0.015,\n",
       "                                                             0.025, 0.035],\n",
       "                                        &#x27;min_samples_split&#x27;: [0.005, 0.015,\n",
       "                                                              0.025, 0.035],\n",
       "                                        &#x27;n_estimators&#x27;: [10, 60, 110, 160,\n",
       "                                                         210]},\n",
       "                   return_train_score=True)</pre><b>In a Jupyter environment, please rerun this cell to show the HTML representation or trust the notebook. <br />On GitHub, the HTML representation is unable to render, please try loading this page with nbviewer.org.</b></div><div class=\"sk-container\" hidden><div class=\"sk-item sk-dashed-wrapped\"><div class=\"sk-label-container\"><div class=\"sk-label sk-toggleable\"><input class=\"sk-toggleable__control sk-hidden--visually\" id=\"sk-estimator-id-5\" type=\"checkbox\" ><label for=\"sk-estimator-id-5\" class=\"sk-toggleable__label sk-toggleable__label-arrow\">RandomizedSearchCV</label><div class=\"sk-toggleable__content\"><pre>RandomizedSearchCV(cv=10,\n",
       "                   estimator=RandomForestClassifier(class_weight=&#x27;balanced&#x27;),\n",
       "                   n_iter=50,\n",
       "                   param_distributions={&#x27;criterion&#x27;: [&#x27;gini&#x27;, &#x27;entropy&#x27;],\n",
       "                                        &#x27;max_depth&#x27;: [5, 15, 25, 35, None],\n",
       "                                        &#x27;max_features&#x27;: [&#x27;sqrt&#x27;, &#x27;log2&#x27;],\n",
       "                                        &#x27;min_samples_leaf&#x27;: [0.005, 0.015,\n",
       "                                                             0.025, 0.035],\n",
       "                                        &#x27;min_samples_split&#x27;: [0.005, 0.015,\n",
       "                                                              0.025, 0.035],\n",
       "                                        &#x27;n_estimators&#x27;: [10, 60, 110, 160,\n",
       "                                                         210]},\n",
       "                   return_train_score=True)</pre></div></div></div><div class=\"sk-parallel\"><div class=\"sk-parallel-item\"><div class=\"sk-item\"><div class=\"sk-label-container\"><div class=\"sk-label sk-toggleable\"><input class=\"sk-toggleable__control sk-hidden--visually\" id=\"sk-estimator-id-6\" type=\"checkbox\" ><label for=\"sk-estimator-id-6\" class=\"sk-toggleable__label sk-toggleable__label-arrow\">estimator: RandomForestClassifier</label><div class=\"sk-toggleable__content\"><pre>RandomForestClassifier(class_weight=&#x27;balanced&#x27;)</pre></div></div></div><div class=\"sk-serial\"><div class=\"sk-item\"><div class=\"sk-estimator sk-toggleable\"><input class=\"sk-toggleable__control sk-hidden--visually\" id=\"sk-estimator-id-7\" type=\"checkbox\" ><label for=\"sk-estimator-id-7\" class=\"sk-toggleable__label sk-toggleable__label-arrow\">RandomForestClassifier</label><div class=\"sk-toggleable__content\"><pre>RandomForestClassifier(class_weight=&#x27;balanced&#x27;)</pre></div></div></div></div></div></div></div></div></div></div>"
      ],
      "text/plain": [
       "RandomizedSearchCV(cv=10,\n",
       "                   estimator=RandomForestClassifier(class_weight='balanced'),\n",
       "                   n_iter=50,\n",
       "                   param_distributions={'criterion': ['gini', 'entropy'],\n",
       "                                        'max_depth': [5, 15, 25, 35, None],\n",
       "                                        'max_features': ['sqrt', 'log2'],\n",
       "                                        'min_samples_leaf': [0.005, 0.015,\n",
       "                                                             0.025, 0.035],\n",
       "                                        'min_samples_split': [0.005, 0.015,\n",
       "                                                              0.025, 0.035],\n",
       "                                        'n_estimators': [10, 60, 110, 160,\n",
       "                                                         210]},\n",
       "                   return_train_score=True)"
      ]
     },
     "execution_count": 85,
     "metadata": {},
     "output_type": "execute_result"
    }
   ],
   "source": [
    "def my_roc_auc_score(model, X_train, y_train): return metrics.roc_auc_score(y_test, model.predict(X_test))\n",
    "\n",
    "model_rf= RandomizedSearchCV(estimator=RandomForestClassifier (class_weight='balanced'),\n",
    "                             param_distributions=params_grid,\n",
    "                             n_iter=50,\n",
    "                             cv=10,\n",
    "                             return_train_score=True)\n",
    "model_rf.fit(X_train,y_train)"
   ]
  },
  {
   "cell_type": "code",
   "execution_count": 86,
   "metadata": {},
   "outputs": [
    {
     "data": {
      "text/plain": [
       "{'n_estimators': 210,\n",
       " 'min_samples_split': 0.015,\n",
       " 'min_samples_leaf': 0.005,\n",
       " 'max_features': 'log2',\n",
       " 'max_depth': 5,\n",
       " 'criterion': 'gini'}"
      ]
     },
     "execution_count": 86,
     "metadata": {},
     "output_type": "execute_result"
    }
   ],
   "source": [
    "model_rf.best_params_"
   ]
  },
  {
   "cell_type": "code",
   "execution_count": 87,
   "metadata": {},
   "outputs": [
    {
     "data": {
      "text/html": [
       "<style>#sk-container-id-4 {color: black;background-color: white;}#sk-container-id-4 pre{padding: 0;}#sk-container-id-4 div.sk-toggleable {background-color: white;}#sk-container-id-4 label.sk-toggleable__label {cursor: pointer;display: block;width: 100%;margin-bottom: 0;padding: 0.3em;box-sizing: border-box;text-align: center;}#sk-container-id-4 label.sk-toggleable__label-arrow:before {content: \"▸\";float: left;margin-right: 0.25em;color: #696969;}#sk-container-id-4 label.sk-toggleable__label-arrow:hover:before {color: black;}#sk-container-id-4 div.sk-estimator:hover label.sk-toggleable__label-arrow:before {color: black;}#sk-container-id-4 div.sk-toggleable__content {max-height: 0;max-width: 0;overflow: hidden;text-align: left;background-color: #f0f8ff;}#sk-container-id-4 div.sk-toggleable__content pre {margin: 0.2em;color: black;border-radius: 0.25em;background-color: #f0f8ff;}#sk-container-id-4 input.sk-toggleable__control:checked~div.sk-toggleable__content {max-height: 200px;max-width: 100%;overflow: auto;}#sk-container-id-4 input.sk-toggleable__control:checked~label.sk-toggleable__label-arrow:before {content: \"▾\";}#sk-container-id-4 div.sk-estimator input.sk-toggleable__control:checked~label.sk-toggleable__label {background-color: #d4ebff;}#sk-container-id-4 div.sk-label input.sk-toggleable__control:checked~label.sk-toggleable__label {background-color: #d4ebff;}#sk-container-id-4 input.sk-hidden--visually {border: 0;clip: rect(1px 1px 1px 1px);clip: rect(1px, 1px, 1px, 1px);height: 1px;margin: -1px;overflow: hidden;padding: 0;position: absolute;width: 1px;}#sk-container-id-4 div.sk-estimator {font-family: monospace;background-color: #f0f8ff;border: 1px dotted black;border-radius: 0.25em;box-sizing: border-box;margin-bottom: 0.5em;}#sk-container-id-4 div.sk-estimator:hover {background-color: #d4ebff;}#sk-container-id-4 div.sk-parallel-item::after {content: \"\";width: 100%;border-bottom: 1px solid gray;flex-grow: 1;}#sk-container-id-4 div.sk-label:hover label.sk-toggleable__label {background-color: #d4ebff;}#sk-container-id-4 div.sk-serial::before {content: \"\";position: absolute;border-left: 1px solid gray;box-sizing: border-box;top: 0;bottom: 0;left: 50%;z-index: 0;}#sk-container-id-4 div.sk-serial {display: flex;flex-direction: column;align-items: center;background-color: white;padding-right: 0.2em;padding-left: 0.2em;position: relative;}#sk-container-id-4 div.sk-item {position: relative;z-index: 1;}#sk-container-id-4 div.sk-parallel {display: flex;align-items: stretch;justify-content: center;background-color: white;position: relative;}#sk-container-id-4 div.sk-item::before, #sk-container-id-4 div.sk-parallel-item::before {content: \"\";position: absolute;border-left: 1px solid gray;box-sizing: border-box;top: 0;bottom: 0;left: 50%;z-index: -1;}#sk-container-id-4 div.sk-parallel-item {display: flex;flex-direction: column;z-index: 1;position: relative;background-color: white;}#sk-container-id-4 div.sk-parallel-item:first-child::after {align-self: flex-end;width: 50%;}#sk-container-id-4 div.sk-parallel-item:last-child::after {align-self: flex-start;width: 50%;}#sk-container-id-4 div.sk-parallel-item:only-child::after {width: 0;}#sk-container-id-4 div.sk-dashed-wrapped {border: 1px dashed gray;margin: 0 0.4em 0.5em 0.4em;box-sizing: border-box;padding-bottom: 0.4em;background-color: white;}#sk-container-id-4 div.sk-label label {font-family: monospace;font-weight: bold;display: inline-block;line-height: 1.2em;}#sk-container-id-4 div.sk-label-container {text-align: center;}#sk-container-id-4 div.sk-container {/* jupyter's `normalize.less` sets `[hidden] { display: none; }` but bootstrap.min.css set `[hidden] { display: none !important; }` so we also need the `!important` here to be able to override the default hidden behavior on the sphinx rendered scikit-learn.org. See: https://github.com/scikit-learn/scikit-learn/issues/21755 */display: inline-block !important;position: relative;}#sk-container-id-4 div.sk-text-repr-fallback {display: none;}</style><div id=\"sk-container-id-4\" class=\"sk-top-container\"><div class=\"sk-text-repr-fallback\"><pre>RandomForestClassifier(max_depth=5, min_samples_leaf=0.005,\n",
       "                       min_samples_split=0.015, n_estimators=210,\n",
       "                       random_state=42)</pre><b>In a Jupyter environment, please rerun this cell to show the HTML representation or trust the notebook. <br />On GitHub, the HTML representation is unable to render, please try loading this page with nbviewer.org.</b></div><div class=\"sk-container\" hidden><div class=\"sk-item\"><div class=\"sk-estimator sk-toggleable\"><input class=\"sk-toggleable__control sk-hidden--visually\" id=\"sk-estimator-id-8\" type=\"checkbox\" checked><label for=\"sk-estimator-id-8\" class=\"sk-toggleable__label sk-toggleable__label-arrow\">RandomForestClassifier</label><div class=\"sk-toggleable__content\"><pre>RandomForestClassifier(max_depth=5, min_samples_leaf=0.005,\n",
       "                       min_samples_split=0.015, n_estimators=210,\n",
       "                       random_state=42)</pre></div></div></div></div></div>"
      ],
      "text/plain": [
       "RandomForestClassifier(max_depth=5, min_samples_leaf=0.005,\n",
       "                       min_samples_split=0.015, n_estimators=210,\n",
       "                       random_state=42)"
      ]
     },
     "execution_count": 87,
     "metadata": {},
     "output_type": "execute_result"
    }
   ],
   "source": [
    "#creating final model for random forest\n",
    "model_rf_fin=RandomForestClassifier(\n",
    "                                   criterion='gini',\n",
    "                                   max_features='sqrt',\n",
    "                                   min_samples_leaf=0.005,\n",
    "                                   min_samples_split=0.015,\n",
    "                                   n_estimators=210,\n",
    "                                   max_depth=5,\n",
    "                                   random_state=42)\n",
    "model_rf_fin.fit(X_train,y_train)"
   ]
  },
  {
   "cell_type": "code",
   "execution_count": 88,
   "metadata": {},
   "outputs": [],
   "source": [
    "predictions = model_rf_fin.predict(X_test)"
   ]
  },
  {
   "cell_type": "code",
   "execution_count": 89,
   "metadata": {},
   "outputs": [
    {
     "name": "stdout",
     "output_type": "stream",
     "text": [
      "[[1794    4    4    0    3    0    1    0]\n",
      " [   1 1467    1    0    2   72    0  178]\n",
      " [   0    0 1470    0    0    0    0  313]\n",
      " [  17    0  278 1251    0    5    0  191]\n",
      " [  44    0   12    0 1417    3    0  319]\n",
      " [  32    0    3    0   84 1530    0  130]\n",
      " [   1    0    0    0    7  157 1621   33]\n",
      " [   0    0    0    0    0    0    0 1819]]\n"
     ]
    }
   ],
   "source": [
    "from sklearn.metrics import confusion_matrix,classification_report\n",
    "print(confusion_matrix(y_test,predictions))"
   ]
  },
  {
   "cell_type": "code",
   "execution_count": 90,
   "metadata": {},
   "outputs": [
    {
     "name": "stdout",
     "output_type": "stream",
     "text": [
      "              precision    recall  f1-score   support\n",
      "\n",
      "           0       0.95      0.99      0.97      1806\n",
      "           1       1.00      0.85      0.92      1721\n",
      "           2       0.83      0.82      0.83      1783\n",
      "           3       1.00      0.72      0.84      1742\n",
      "           4       0.94      0.79      0.86      1795\n",
      "           5       0.87      0.86      0.86      1779\n",
      "           6       1.00      0.89      0.94      1819\n",
      "           7       0.61      1.00      0.76      1819\n",
      "\n",
      "    accuracy                           0.87     14264\n",
      "   macro avg       0.90      0.87      0.87     14264\n",
      "weighted avg       0.90      0.87      0.87     14264\n",
      "\n"
     ]
    }
   ],
   "source": [
    "print(classification_report(y_test,predictions))"
   ]
  },
  {
   "cell_type": "code",
   "execution_count": 91,
   "metadata": {},
   "outputs": [
    {
     "name": "stderr",
     "output_type": "stream",
     "text": [
      "C:\\Users\\TMHBXB78\\Anaconda3\\lib\\site-packages\\sklearn\\utils\\deprecation.py:87: FutureWarning: Function plot_confusion_matrix is deprecated; Function `plot_confusion_matrix` is deprecated in 1.0 and will be removed in 1.2. Use one of the class methods: ConfusionMatrixDisplay.from_predictions or ConfusionMatrixDisplay.from_estimator.\n",
      "  warnings.warn(msg, category=FutureWarning)\n"
     ]
    },
    {
     "data": {
      "text/plain": [
       "<sklearn.metrics._plot.confusion_matrix.ConfusionMatrixDisplay at 0x27ae9f93ee0>"
      ]
     },
     "execution_count": 91,
     "metadata": {},
     "output_type": "execute_result"
    },
    {
     "data": {
      "image/png": "[encoded data removed]",
      "text/plain": [
       "<Figure size 432x288 with 2 Axes>"
      ]
     },
     "metadata": {
      "needs_background": "light"
     },
     "output_type": "display_data"
    }
   ],
   "source": [
    "plot_confusion_matrix(model_rf_fin,X_test,y_test)"
   ]
  },
  {
   "cell_type": "code",
   "execution_count": 92,
   "metadata": {},
   "outputs": [
    {
     "data": {
      "text/plain": [
       "0.8671480650588895"
      ]
     },
     "execution_count": 92,
     "metadata": {},
     "output_type": "execute_result"
    }
   ],
   "source": [
    "from sklearn import metrics\n",
    "metrics.accuracy_score(y_test,predictions)"
   ]
  },
  {
   "cell_type": "markdown",
   "metadata": {},
   "source": [
    "# 5 FOLD STRATIFIED CROSS VALIDATION RANDOM FOREST+SMOTE+(BOW+TFIDF)"
   ]
  },
  {
   "cell_type": "code",
   "execution_count": 93,
   "metadata": {},
   "outputs": [
    {
     "name": "stdout",
     "output_type": "stream",
     "text": [
      "Fold:1, Train set: 34579, Test set:8645\n",
      "Fold:2, Train set: 34579, Test set:8645\n",
      "Fold:3, Train set: 34579, Test set:8645\n",
      "Fold:4, Train set: 34579, Test set:8645\n",
      "Fold:5, Train set: 34580, Test set:8644\n",
      "Scores for each fold are: [0.9995373  0.99872759 0.99942163 0.99907461 0.99976863]\n",
      "Average score: 1.00\n"
     ]
    }
   ],
   "source": [
    "from statistics import mean, stdev\n",
    "from sklearn import preprocessing\n",
    "from sklearn.model_selection import StratifiedKFold\n",
    "from sklearn import linear_model\n",
    "from sklearn import datasets\n",
    "from sklearn import ensemble\n",
    "\n",
    "from sklearn.ensemble import RandomForestClassifier\n",
    "\n",
    "# Lets split the data into 5 folds. \n",
    "# We will use this 'kf'(StratiFiedKFold splitting stratergy) object as input to cross_val_score() method\n",
    "# The folds are made by preserving the percentage of samples for each class.\n",
    "kf = StratifiedKFold(n_splits=5, shuffle=True, random_state=42)\n",
    "\n",
    "cnt = 1\n",
    "# split()  method generate indices to split data into training and test set.\n",
    "for train_index, test_index in kf.split(X_tfidf, y_new):\n",
    "    print(f'Fold:{cnt}, Train set: {len(train_index)}, Test set:{len(test_index)}')\n",
    "    cnt+=1\n",
    "    \n",
    "# Note that: \n",
    "# cross_val_score() parameter 'cv' will by default use StratifiedKFold spliting startergy if we just specify value of number of folds. \n",
    "# So you can bypass above step and just specify cv= 5 in cross_val_score() function\n",
    "\n",
    "score = cross_val_score(ensemble.RandomForestClassifier(random_state= 42), X_tfidf, y_new, cv= kf, scoring=\"accuracy\")\n",
    "print(f'Scores for each fold are: {score}')\n",
    "print(f'Average score: {\"{:.2f}\".format(score.mean())}')"
   ]
  },
  {
   "cell_type": "code",
   "execution_count": 94,
   "metadata": {},
   "outputs": [],
   "source": [
    "from sklearn.metrics import classification_report, accuracy_score, make_scorer"
   ]
  },
  {
   "cell_type": "code",
   "execution_count": 95,
   "metadata": {},
   "outputs": [],
   "source": [
    "def classification_report_with_accuracy_score(y_new, Z):\n",
    "    print (classification_report(y_new, Z)) # print classification report\n",
    "    return accuracy_score(y_new, Z) # return accuracy score"
   ]
  },
  {
   "cell_type": "code",
   "execution_count": 96,
   "metadata": {},
   "outputs": [
    {
     "name": "stdout",
     "output_type": "stream",
     "text": [
      "              precision    recall  f1-score   support\n",
      "\n",
      "           0       1.00      1.00      1.00      1080\n",
      "           1       1.00      1.00      1.00      1080\n",
      "           2       1.00      1.00      1.00      1081\n",
      "           3       1.00      1.00      1.00      1080\n",
      "           4       1.00      1.00      1.00      1081\n",
      "           5       1.00      1.00      1.00      1081\n",
      "           6       1.00      1.00      1.00      1081\n",
      "           7       1.00      1.00      1.00      1081\n",
      "\n",
      "    accuracy                           1.00      8645\n",
      "   macro avg       1.00      1.00      1.00      8645\n",
      "weighted avg       1.00      1.00      1.00      8645\n",
      "\n",
      "              precision    recall  f1-score   support\n",
      "\n",
      "           0       1.00      1.00      1.00      1081\n",
      "           1       1.00      1.00      1.00      1080\n",
      "           2       1.00      1.00      1.00      1081\n",
      "           3       1.00      1.00      1.00      1081\n",
      "           4       1.00      1.00      1.00      1081\n",
      "           5       1.00      1.00      1.00      1081\n",
      "           6       1.00      1.00      1.00      1080\n",
      "           7       1.00      1.00      1.00      1080\n",
      "\n",
      "    accuracy                           1.00      8645\n",
      "   macro avg       1.00      1.00      1.00      8645\n",
      "weighted avg       1.00      1.00      1.00      8645\n",
      "\n",
      "              precision    recall  f1-score   support\n",
      "\n",
      "           0       1.00      1.00      1.00      1081\n",
      "           1       1.00      1.00      1.00      1081\n",
      "           2       1.00      1.00      1.00      1081\n",
      "           3       1.00      1.00      1.00      1081\n",
      "           4       1.00      1.00      1.00      1080\n",
      "           5       1.00      1.00      1.00      1081\n",
      "           6       1.00      1.00      1.00      1080\n",
      "           7       1.00      1.00      1.00      1080\n",
      "\n",
      "    accuracy                           1.00      8645\n",
      "   macro avg       1.00      1.00      1.00      8645\n",
      "weighted avg       1.00      1.00      1.00      8645\n",
      "\n",
      "              precision    recall  f1-score   support\n",
      "\n",
      "           0       1.00      1.00      1.00      1081\n",
      "           1       1.00      1.00      1.00      1081\n",
      "           2       1.00      1.00      1.00      1080\n",
      "           3       1.00      1.00      1.00      1081\n",
      "           4       1.00      1.00      1.00      1080\n",
      "           5       1.00      1.00      1.00      1080\n",
      "           6       1.00      1.00      1.00      1081\n",
      "           7       1.00      1.00      1.00      1081\n",
      "\n",
      "    accuracy                           1.00      8645\n",
      "   macro avg       1.00      1.00      1.00      8645\n",
      "weighted avg       1.00      1.00      1.00      8645\n",
      "\n",
      "              precision    recall  f1-score   support\n",
      "\n",
      "           0       1.00      1.00      1.00      1080\n",
      "           1       1.00      1.00      1.00      1081\n",
      "           2       1.00      1.00      1.00      1080\n",
      "           3       1.00      1.00      1.00      1080\n",
      "           4       1.00      1.00      1.00      1081\n",
      "           5       1.00      1.00      1.00      1080\n",
      "           6       1.00      1.00      1.00      1081\n",
      "           7       1.00      1.00      1.00      1081\n",
      "\n",
      "    accuracy                           1.00      8644\n",
      "   macro avg       1.00      1.00      1.00      8644\n",
      "weighted avg       1.00      1.00      1.00      8644\n",
      "\n",
      "[0.9995373  0.99872759 0.99942163 0.99907461 0.99976863]\n"
     ]
    }
   ],
   "source": [
    "# Nested CV with parameter optimization\n",
    "nested_score = cross_val_score(ensemble.RandomForestClassifier(random_state= 42), X_tfidf, y_new, cv= kf, \\\n",
    "               scoring=make_scorer(classification_report_with_accuracy_score))\n",
    "print (nested_score)"
   ]
  },
  {
   "cell_type": "markdown",
   "metadata": {},
   "source": [
    "# 5 FOLD STRATIFIED CROSS VALIDATION SVM+SMOTE+(BOW+TFIDF)"
   ]
  },
  {
   "cell_type": "code",
   "execution_count": 97,
   "metadata": {},
   "outputs": [
    {
     "name": "stdout",
     "output_type": "stream",
     "text": [
      "Fold:1, Train set: 34579, Test set:8645\n",
      "Fold:2, Train set: 34579, Test set:8645\n",
      "Fold:3, Train set: 34579, Test set:8645\n",
      "Fold:4, Train set: 34579, Test set:8645\n",
      "Fold:5, Train set: 34580, Test set:8644\n",
      "Scores for each fold are: [0.99976865 0.99976865 0.99988433 1.         1.        ]\n",
      "Average score: 1.00\n"
     ]
    }
   ],
   "source": [
    "from statistics import mean, stdev\n",
    "from sklearn import preprocessing\n",
    "from sklearn.model_selection import StratifiedKFold\n",
    "from sklearn import linear_model\n",
    "from sklearn import datasets\n",
    "from sklearn import ensemble\n",
    "\n",
    "from sklearn.ensemble import RandomForestClassifier\n",
    "\n",
    "# Lets split the data into 5 folds. \n",
    "# We will use this 'kf'(StratiFiedKFold splitting stratergy) object as input to cross_val_score() method\n",
    "# The folds are made by preserving the percentage of samples for each class.\n",
    "kf = StratifiedKFold(n_splits=5, shuffle=True, random_state=42)\n",
    "\n",
    "cnt = 1\n",
    "# split()  method generate indices to split data into training and test set.\n",
    "for train_index, test_index in kf.split(X_tfidf, y_new):\n",
    "    print(f'Fold:{cnt}, Train set: {len(train_index)}, Test set:{len(test_index)}')\n",
    "    cnt+=1\n",
    "    \n",
    "# Note that: \n",
    "# cross_val_score() parameter 'cv' will by default use StratifiedKFold spliting startergy if we just specify value of number of folds. \n",
    "# So you can bypass above step and just specify cv= 5 in cross_val_score() function\n",
    "from sklearn.svm import LinearSVC\n",
    "from sklearn.pipeline import Pipeline\n",
    "\n",
    "text_clf=make_pipeline(LinearSVC())\n",
    "\n",
    "\n",
    "score = cross_val_score(text_clf, X_tfidf, y_new, cv= kf, scoring=\"accuracy\")\n",
    "print(f'Scores for each fold are: {score}')\n",
    "print(f'Average score: {\"{:.2f}\".format(score.mean())}')"
   ]
  },
  {
   "cell_type": "code",
   "execution_count": 98,
   "metadata": {},
   "outputs": [],
   "source": [
    "from sklearn.metrics import classification_report, accuracy_score, make_scorer"
   ]
  },
  {
   "cell_type": "code",
   "execution_count": 99,
   "metadata": {},
   "outputs": [],
   "source": [
    "def classification_report_with_accuracy_score(y_new, Z):\n",
    "    print (classification_report(y_new, Z)) # print classification report\n",
    "    return accuracy_score(y_new, Z) # return accuracy score"
   ]
  },
  {
   "cell_type": "code",
   "execution_count": 100,
   "metadata": {},
   "outputs": [
    {
     "name": "stdout",
     "output_type": "stream",
     "text": [
      "              precision    recall  f1-score   support\n",
      "\n",
      "           0       1.00      1.00      1.00      1080\n",
      "           1       1.00      1.00      1.00      1080\n",
      "           2       1.00      1.00      1.00      1081\n",
      "           3       1.00      1.00      1.00      1080\n",
      "           4       1.00      1.00      1.00      1081\n",
      "           5       1.00      1.00      1.00      1081\n",
      "           6       1.00      1.00      1.00      1081\n",
      "           7       1.00      1.00      1.00      1081\n",
      "\n",
      "    accuracy                           1.00      8645\n",
      "   macro avg       1.00      1.00      1.00      8645\n",
      "weighted avg       1.00      1.00      1.00      8645\n",
      "\n",
      "              precision    recall  f1-score   support\n",
      "\n",
      "           0       1.00      1.00      1.00      1081\n",
      "           1       1.00      1.00      1.00      1080\n",
      "           2       1.00      1.00      1.00      1081\n",
      "           3       1.00      1.00      1.00      1081\n",
      "           4       1.00      1.00      1.00      1081\n",
      "           5       1.00      1.00      1.00      1081\n",
      "           6       1.00      1.00      1.00      1080\n",
      "           7       1.00      1.00      1.00      1080\n",
      "\n",
      "    accuracy                           1.00      8645\n",
      "   macro avg       1.00      1.00      1.00      8645\n",
      "weighted avg       1.00      1.00      1.00      8645\n",
      "\n",
      "              precision    recall  f1-score   support\n",
      "\n",
      "           0       1.00      1.00      1.00      1081\n",
      "           1       1.00      1.00      1.00      1081\n",
      "           2       1.00      1.00      1.00      1081\n",
      "           3       1.00      1.00      1.00      1081\n",
      "           4       1.00      1.00      1.00      1080\n",
      "           5       1.00      1.00      1.00      1081\n",
      "           6       1.00      1.00      1.00      1080\n",
      "           7       1.00      1.00      1.00      1080\n",
      "\n",
      "    accuracy                           1.00      8645\n",
      "   macro avg       1.00      1.00      1.00      8645\n",
      "weighted avg       1.00      1.00      1.00      8645\n",
      "\n",
      "              precision    recall  f1-score   support\n",
      "\n",
      "           0       1.00      1.00      1.00      1081\n",
      "           1       1.00      1.00      1.00      1081\n",
      "           2       1.00      1.00      1.00      1080\n",
      "           3       1.00      1.00      1.00      1081\n",
      "           4       1.00      1.00      1.00      1080\n",
      "           5       1.00      1.00      1.00      1080\n",
      "           6       1.00      1.00      1.00      1081\n",
      "           7       1.00      1.00      1.00      1081\n",
      "\n",
      "    accuracy                           1.00      8645\n",
      "   macro avg       1.00      1.00      1.00      8645\n",
      "weighted avg       1.00      1.00      1.00      8645\n",
      "\n",
      "              precision    recall  f1-score   support\n",
      "\n",
      "           0       1.00      1.00      1.00      1080\n",
      "           1       1.00      1.00      1.00      1081\n",
      "           2       1.00      1.00      1.00      1080\n",
      "           3       1.00      1.00      1.00      1080\n",
      "           4       1.00      1.00      1.00      1081\n",
      "           5       1.00      1.00      1.00      1080\n",
      "           6       1.00      1.00      1.00      1081\n",
      "           7       1.00      1.00      1.00      1081\n",
      "\n",
      "    accuracy                           1.00      8644\n",
      "   macro avg       1.00      1.00      1.00      8644\n",
      "weighted avg       1.00      1.00      1.00      8644\n",
      "\n",
      "[0.99976865 0.99976865 0.99988433 1.         1.        ]\n"
     ]
    }
   ],
   "source": [
    "# Nested CV with parameter optimization\n",
    "nested_score = cross_val_score(text_clf, X_tfidf, y_new, cv= kf, \\\n",
    "               scoring=make_scorer(classification_report_with_accuracy_score))\n",
    "print (nested_score)"
   ]
  },
  {
   "cell_type": "markdown",
   "metadata": {},
   "source": [
    "# 5 FOLD STRATIFIED CROSS VALIDATION XGBOOST+SMOTE+(BOW+TFIDF)"
   ]
  },
  {
   "cell_type": "code",
   "execution_count": 101,
   "metadata": {},
   "outputs": [
    {
     "name": "stdout",
     "output_type": "stream",
     "text": [
      "Fold:1, Train set: 34579, Test set:8645\n",
      "Fold:2, Train set: 34579, Test set:8645\n",
      "Fold:3, Train set: 34579, Test set:8645\n",
      "Fold:4, Train set: 34579, Test set:8645\n",
      "Fold:5, Train set: 34580, Test set:8644\n",
      "Scores for each fold are: [0.99965298 0.9995373  0.99965298 1.         0.99988431]\n",
      "Average score: 1.00\n"
     ]
    }
   ],
   "source": [
    "from statistics import mean, stdev\n",
    "from sklearn import preprocessing\n",
    "from sklearn.model_selection import StratifiedKFold\n",
    "from sklearn import linear_model\n",
    "from sklearn import datasets\n",
    "from sklearn import ensemble\n",
    "\n",
    "from sklearn.ensemble import RandomForestClassifier\n",
    "\n",
    "# Lets split the data into 5 folds. \n",
    "# We will use this 'kf'(StratiFiedKFold splitting stratergy) object as input to cross_val_score() method\n",
    "# The folds are made by preserving the percentage of samples for each class.\n",
    "kf = StratifiedKFold(n_splits=5, shuffle=True, random_state=42)\n",
    "\n",
    "cnt = 1\n",
    "# split()  method generate indices to split data into training and test set.\n",
    "for train_index, test_index in kf.split(X_tfidf, y_new):\n",
    "    print(f'Fold:{cnt}, Train set: {len(train_index)}, Test set:{len(test_index)}')\n",
    "    cnt+=1\n",
    "    \n",
    "# Note that: \n",
    "# cross_val_score() parameter 'cv' will by default use StratifiedKFold spliting startergy if we just specify value of number of folds. \n",
    "# So you can bypass above step and just specify cv= 5 in cross_val_score() function\n",
    "from numpy import loadtxt\n",
    "from xgboost import XGBClassifier\n",
    "\n",
    "text_clf=make_pipeline(XGBClassifier())\n",
    "\n",
    "\n",
    "score = cross_val_score(text_clf, X_tfidf, y_new, cv= kf, scoring=\"accuracy\")\n",
    "print(f'Scores for each fold are: {score}')\n",
    "print(f'Average score: {\"{:.2f}\".format(score.mean())}')"
   ]
  },
  {
   "cell_type": "code",
   "execution_count": 102,
   "metadata": {},
   "outputs": [],
   "source": [
    "from sklearn.metrics import classification_report, accuracy_score, make_scorer"
   ]
  },
  {
   "cell_type": "code",
   "execution_count": 103,
   "metadata": {},
   "outputs": [],
   "source": [
    "def classification_report_with_accuracy_score(y_new, Z):\n",
    "    print (classification_report(y_new, Z)) # print classification report\n",
    "    return accuracy_score(y_new, Z) # return accuracy score"
   ]
  },
  {
   "cell_type": "code",
   "execution_count": 104,
   "metadata": {},
   "outputs": [
    {
     "name": "stdout",
     "output_type": "stream",
     "text": [
      "              precision    recall  f1-score   support\n",
      "\n",
      "           0       1.00      1.00      1.00      1080\n",
      "           1       1.00      1.00      1.00      1080\n",
      "           2       1.00      1.00      1.00      1081\n",
      "           3       1.00      1.00      1.00      1080\n",
      "           4       1.00      1.00      1.00      1081\n",
      "           5       1.00      1.00      1.00      1081\n",
      "           6       1.00      1.00      1.00      1081\n",
      "           7       1.00      1.00      1.00      1081\n",
      "\n",
      "    accuracy                           1.00      8645\n",
      "   macro avg       1.00      1.00      1.00      8645\n",
      "weighted avg       1.00      1.00      1.00      8645\n",
      "\n",
      "              precision    recall  f1-score   support\n",
      "\n",
      "           0       1.00      1.00      1.00      1081\n",
      "           1       1.00      1.00      1.00      1080\n",
      "           2       1.00      1.00      1.00      1081\n",
      "           3       1.00      1.00      1.00      1081\n",
      "           4       1.00      1.00      1.00      1081\n",
      "           5       1.00      1.00      1.00      1081\n",
      "           6       1.00      1.00      1.00      1080\n",
      "           7       1.00      1.00      1.00      1080\n",
      "\n",
      "    accuracy                           1.00      8645\n",
      "   macro avg       1.00      1.00      1.00      8645\n",
      "weighted avg       1.00      1.00      1.00      8645\n",
      "\n",
      "              precision    recall  f1-score   support\n",
      "\n",
      "           0       1.00      1.00      1.00      1081\n",
      "           1       1.00      1.00      1.00      1081\n",
      "           2       1.00      1.00      1.00      1081\n",
      "           3       1.00      1.00      1.00      1081\n",
      "           4       1.00      1.00      1.00      1080\n",
      "           5       1.00      1.00      1.00      1081\n",
      "           6       1.00      1.00      1.00      1080\n",
      "           7       1.00      1.00      1.00      1080\n",
      "\n",
      "    accuracy                           1.00      8645\n",
      "   macro avg       1.00      1.00      1.00      8645\n",
      "weighted avg       1.00      1.00      1.00      8645\n",
      "\n",
      "              precision    recall  f1-score   support\n",
      "\n",
      "           0       1.00      1.00      1.00      1081\n",
      "           1       1.00      1.00      1.00      1081\n",
      "           2       1.00      1.00      1.00      1080\n",
      "           3       1.00      1.00      1.00      1081\n",
      "           4       1.00      1.00      1.00      1080\n",
      "           5       1.00      1.00      1.00      1080\n",
      "           6       1.00      1.00      1.00      1081\n",
      "           7       1.00      1.00      1.00      1081\n",
      "\n",
      "    accuracy                           1.00      8645\n",
      "   macro avg       1.00      1.00      1.00      8645\n",
      "weighted avg       1.00      1.00      1.00      8645\n",
      "\n",
      "              precision    recall  f1-score   support\n",
      "\n",
      "           0       1.00      1.00      1.00      1080\n",
      "           1       1.00      1.00      1.00      1081\n",
      "           2       1.00      1.00      1.00      1080\n",
      "           3       1.00      1.00      1.00      1080\n",
      "           4       1.00      1.00      1.00      1081\n",
      "           5       1.00      1.00      1.00      1080\n",
      "           6       1.00      1.00      1.00      1081\n",
      "           7       1.00      1.00      1.00      1081\n",
      "\n",
      "    accuracy                           1.00      8644\n",
      "   macro avg       1.00      1.00      1.00      8644\n",
      "weighted avg       1.00      1.00      1.00      8644\n",
      "\n",
      "[0.99965298 0.9995373  0.99965298 1.         0.99988431]\n"
     ]
    }
   ],
   "source": [
    "# Nested CV with parameter optimization\n",
    "nested_score = cross_val_score(text_clf, X_tfidf, y_new, cv= kf, \\\n",
    "               scoring=make_scorer(classification_report_with_accuracy_score))\n",
    "print (nested_score)"
   ]
  },
  {
   "cell_type": "markdown",
   "metadata": {},
   "source": [
    "# TFIDF+SMOTE+ENN+7:3 SPLIT"
   ]
  },
  {
   "cell_type": "code",
   "execution_count": 105,
   "metadata": {},
   "outputs": [
    {
     "name": "stdout",
     "output_type": "stream",
     "text": [
      "                         Findings_Value EF_OUTCOMES\n",
      "0             LV ejection fraction= 52%           5\n",
      "1                 Estimated EF is >70%.           6\n",
      "2                 Estimated EF is >70%.           6\n",
      "3     Biplane LV ejection fraction= 35%           3\n",
      "4                 Estimated EF is >70%.           6\n",
      "...                                 ...         ...\n",
      "7438              Estimated EF is >70%.           6\n",
      "7439              Estimated EF is >70%.           6\n",
      "7440  Biplane LV ejection fraction= 27%           2\n",
      "7441              Estimated EF is >70%.           6\n",
      "7442      LV EF by single plane is 57%.           5\n",
      "\n",
      "[7443 rows x 2 columns]\n"
     ]
    }
   ],
   "source": [
    "import pandas as pd\n",
    "import numpy as np\n",
    "import matplotlib.pyplot as plt\n",
    "from sklearn.tree import DecisionTreeClassifier\n",
    "from sklearn.tree import plot_tree\n",
    "from sklearn.model_selection import train_test_split\n",
    "from sklearn.model_selection import cross_val_score\n",
    "from sklearn.metrics import confusion_matrix\n",
    "from sklearn.metrics import plot_confusion_matrix\n",
    "import pyodbc \n",
    "import nltk\n",
    "import re\n",
    "\n",
    "conn = pyodbc.connect('Driver={SQL Server};'\n",
    "                      'Server=HHVDBCORT01;'\n",
    "                      'Database=NASIR;'\n",
    "                      'user =HHVDBCORT01\\\\TMHBXB78;'\n",
    "                      'Trusted_Connection=yes;')\n",
    "\n",
    "sql_query = pd.read_sql_query('SElect * from NASIR.DBO.POINT_ESTIMATES_NLP_PROSPECTIVE WHERE EF_OUTCOMES<>8', conn)\n",
    "df = pd.DataFrame(sql_query, columns=['Findings_Value','EF_OUTCOMES'])\n",
    "print(df)"
   ]
  },
  {
   "cell_type": "code",
   "execution_count": 106,
   "metadata": {},
   "outputs": [],
   "source": [
    "##removal of extra spaces from the text\n",
    "df['Findings_Value'] =  df['Findings_Value'].apply(lambda x: re.sub(r'\\s+',' ', str(x)))\n",
    "##removal of non-words characters with space\n",
    "##df['FINDINGS_VALUE'] =  df['FINDINGS_VALUE'].apply(lambda x: re.sub(r'\\W',' ', str(x)))\n",
    "##ANY ONE digit/non-digit character\n",
    "##df['FINDINGS_VALUE'] =  df['FINDINGS_VALUE'].apply(lambda x: re.sub(r'\\d',' ', str(x)))\n",
    "##removal of single characters within sentence\n",
    "df['Findings_Value'] =  df['Findings_Value'].apply(lambda x: re.sub(r'\\s+[a-z]\\s+',' ', str(x)))\n",
    "##removal of single characters beginning of sentence or at the end\n",
    "df['Findings_Value'] =  df['Findings_Value'].apply(lambda x: re.sub(r'^[a-z]\\s+',' ', str(x)))"
   ]
  },
  {
   "cell_type": "code",
   "execution_count": 107,
   "metadata": {},
   "outputs": [],
   "source": [
    "from nltk.corpus import stopwords  \n",
    "from nltk.tokenize import word_tokenize  \n",
    "stop_words = set(stopwords.words('english'))  \n",
    "\n",
    "def remove_stopwords(sentence):\n",
    "    word_tokens = word_tokenize(sentence)  \n",
    "    clean_tokens = [w for w in word_tokens if not w in stop_words]  \n",
    "    \n",
    "    return clean_tokens\n",
    "    \n",
    "df['Findings_Value'] = df['Findings_Value'].apply(remove_stopwords)"
   ]
  },
  {
   "cell_type": "code",
   "execution_count": 108,
   "metadata": {},
   "outputs": [],
   "source": [
    "# removal of numbers from text\n",
    "df['Findings_Value'] =  df['Findings_Value'].apply(lambda x: re.sub(r'\\[[0-9]*\\]',' ', str(x)))\n",
    "##removal of extra spaces from the text\n",
    "df['Findings_Value'] =  df['Findings_Value'].apply(lambda x: re.sub(r'\\s+',' ', str(x)))\n",
    "##removal of non words characters with space\n",
    "df['Findings_Value'] =  df['Findings_Value'].apply(lambda x: re.sub(r'\\W',' ', str(x)))\n",
    "##\n",
    "df['Findings_Value'] =  df['Findings_Value'].apply(lambda x: re.sub(r'\\s+',' ', str(x)))"
   ]
  },
  {
   "cell_type": "code",
   "execution_count": 109,
   "metadata": {},
   "outputs": [],
   "source": [
    "X=df['Findings_Value']"
   ]
  },
  {
   "cell_type": "code",
   "execution_count": 110,
   "metadata": {},
   "outputs": [],
   "source": [
    "y=df['EF_OUTCOMES']"
   ]
  },
  {
   "cell_type": "code",
   "execution_count": 111,
   "metadata": {},
   "outputs": [],
   "source": [
    "from sklearn.model_selection import train_test_split\n",
    "from sklearn.feature_extraction.text import CountVectorizer\n"
   ]
  },
  {
   "cell_type": "code",
   "execution_count": 112,
   "metadata": {},
   "outputs": [],
   "source": [
    "count_vect = CountVectorizer(min_df=1,max_df=1.0)"
   ]
  },
  {
   "cell_type": "code",
   "execution_count": 113,
   "metadata": {},
   "outputs": [],
   "source": [
    "X_counts = count_vect.fit_transform(X)"
   ]
  },
  {
   "cell_type": "code",
   "execution_count": 114,
   "metadata": {},
   "outputs": [],
   "source": [
    "from sklearn.feature_extraction.text import TfidfTransformer"
   ]
  },
  {
   "cell_type": "code",
   "execution_count": 115,
   "metadata": {},
   "outputs": [],
   "source": [
    "tfidf_transformer = TfidfTransformer()"
   ]
  },
  {
   "cell_type": "code",
   "execution_count": 116,
   "metadata": {},
   "outputs": [],
   "source": [
    "X_tfidf=tfidf_transformer.fit_transform(X_counts)"
   ]
  },
  {
   "cell_type": "code",
   "execution_count": 117,
   "metadata": {},
   "outputs": [],
   "source": [
    "from sklearn.preprocessing import LabelEncoder\n",
    "y_new= LabelEncoder().fit_transform(y)"
   ]
  },
  {
   "cell_type": "markdown",
   "metadata": {},
   "source": [
    "# SMOTE+ENN"
   ]
  },
  {
   "cell_type": "code",
   "execution_count": 118,
   "metadata": {},
   "outputs": [],
   "source": [
    "from imblearn.combine import SMOTEENN\n",
    "from imblearn.under_sampling import EditedNearestNeighbours\n",
    "from pandas import read_csv\n",
    "from imblearn.over_sampling import SMOTE\n",
    "from collections import Counter\n",
    "from matplotlib import pyplot\n",
    "from sklearn.preprocessing import LabelEncoder\n",
    "from imblearn.datasets import make_imbalance\n",
    "from imblearn.under_sampling import NearMiss\n",
    "from imblearn.pipeline import make_pipeline\n",
    "from imblearn.metrics import classification_report_imbalanced"
   ]
  },
  {
   "cell_type": "code",
   "execution_count": 119,
   "metadata": {},
   "outputs": [
    {
     "name": "stdout",
     "output_type": "stream",
     "text": [
      "Class=0, n=5403 (12.503%)\n",
      "Class=1, n=5403 (12.503%)\n",
      "Class=2, n=5403 (12.503%)\n",
      "Class=3, n=5403 (12.503%)\n",
      "Class=4, n=5403 (12.503%)\n",
      "Class=5, n=5403 (12.503%)\n",
      "Class=6, n=5394 (12.482%)\n",
      "Class=7, n=5403 (12.503%)\n"
     ]
    },
    {
     "data": {
      "image/png": "[encoded data removed]",
      "text/plain": [
       "<Figure size 432x288 with 1 Axes>"
      ]
     },
     "metadata": {
      "needs_background": "light"
     },
     "output_type": "display_data"
    }
   ],
   "source": [
    "oversample = SMOTEENN(enn=EditedNearestNeighbours(sampling_strategy='all'))\n",
    "X_tfidf, y_new = oversample.fit_resample(X_tfidf, y_new)\n",
    "counterx = Counter(y_new)\n",
    "for k,v in counterx.items():\n",
    "    per = v / len(y_new) * 100\n",
    "    print('Class=%d, n=%d (%.3f%%)' % (k, v, per))\n",
    "\n",
    "pyplot.bar(counterx.keys(), counterx.values())\n",
    "pyplot.show()"
   ]
  },
  {
   "cell_type": "code",
   "execution_count": 120,
   "metadata": {},
   "outputs": [],
   "source": [
    "X_train, X_test, y_train, y_test = train_test_split(X_tfidf, y_new, test_size=0.33, random_state=42)"
   ]
  },
  {
   "cell_type": "markdown",
   "metadata": {},
   "source": [
    "# TFIDF+SMOTE+ENN+7:3 SPLIT+RANDOM FOREST"
   ]
  },
  {
   "cell_type": "code",
   "execution_count": 121,
   "metadata": {},
   "outputs": [],
   "source": [
    "from sklearn.ensemble import RandomForestClassifier"
   ]
  },
  {
   "cell_type": "code",
   "execution_count": 122,
   "metadata": {},
   "outputs": [
    {
     "name": "stdout",
     "output_type": "stream",
     "text": [
      "Mean Absolute Error: 0.0 degrees.\n"
     ]
    }
   ],
   "source": [
    "rf= RandomForestClassifier()\n",
    "text_clf=make_pipeline(rf)\n",
    "# Train the model on training data\n",
    "text_clf.fit(X_train,y_train)\n",
    "# Use the forest's predict method on the test data\n",
    "predictions = text_clf.predict(X_test)\n",
    "# Calculate the absolute errors\n",
    "errors = abs(predictions - y_test)\n",
    "# Print out the mean absolute error (mae)\n",
    "print('Mean Absolute Error:', round(np.mean(errors), 2), 'degrees.')"
   ]
  },
  {
   "cell_type": "code",
   "execution_count": 123,
   "metadata": {},
   "outputs": [
    {
     "name": "stdout",
     "output_type": "stream",
     "text": [
      "[[1816    0    0    0    0    0    0    0]\n",
      " [   0 1803    0    0    0    1    0    3]\n",
      " [   0    0 1777    0    0    0    0    0]\n",
      " [   0    0    0 1743    2    0    0    0]\n",
      " [   0    0    3    1 1775    0    0    0]\n",
      " [   0    0    0    2    1 1782    0    0]\n",
      " [   0    0    0    0    0    0 1761    0]\n",
      " [   0    0    0    0    0    0    0 1791]]\n"
     ]
    }
   ],
   "source": [
    "from sklearn.metrics import confusion_matrix,classification_report\n",
    "print(confusion_matrix(y_test,predictions))"
   ]
  },
  {
   "cell_type": "code",
   "execution_count": 124,
   "metadata": {},
   "outputs": [
    {
     "name": "stdout",
     "output_type": "stream",
     "text": [
      "              precision    recall  f1-score   support\n",
      "\n",
      "           0       1.00      1.00      1.00      1816\n",
      "           1       1.00      1.00      1.00      1807\n",
      "           2       1.00      1.00      1.00      1777\n",
      "           3       1.00      1.00      1.00      1745\n",
      "           4       1.00      1.00      1.00      1779\n",
      "           5       1.00      1.00      1.00      1785\n",
      "           6       1.00      1.00      1.00      1761\n",
      "           7       1.00      1.00      1.00      1791\n",
      "\n",
      "    accuracy                           1.00     14261\n",
      "   macro avg       1.00      1.00      1.00     14261\n",
      "weighted avg       1.00      1.00      1.00     14261\n",
      "\n"
     ]
    }
   ],
   "source": [
    "print(classification_report(y_test,predictions))"
   ]
  },
  {
   "cell_type": "code",
   "execution_count": 125,
   "metadata": {},
   "outputs": [
    {
     "name": "stderr",
     "output_type": "stream",
     "text": [
      "C:\\Users\\TMHBXB78\\Anaconda3\\lib\\site-packages\\sklearn\\utils\\deprecation.py:87: FutureWarning: Function plot_confusion_matrix is deprecated; Function `plot_confusion_matrix` is deprecated in 1.0 and will be removed in 1.2. Use one of the class methods: ConfusionMatrixDisplay.from_predictions or ConfusionMatrixDisplay.from_estimator.\n",
      "  warnings.warn(msg, category=FutureWarning)\n"
     ]
    },
    {
     "data": {
      "text/plain": [
       "<sklearn.metrics._plot.confusion_matrix.ConfusionMatrixDisplay at 0x27aee59dca0>"
      ]
     },
     "execution_count": 125,
     "metadata": {},
     "output_type": "execute_result"
    },
    {
     "data": {
      "image/png": "[encoded data removed]",
      "text/plain": [
       "<Figure size 432x288 with 2 Axes>"
      ]
     },
     "metadata": {
      "needs_background": "light"
     },
     "output_type": "display_data"
    }
   ],
   "source": [
    "plot_confusion_matrix(text_clf,X_test,y_test)"
   ]
  },
  {
   "cell_type": "markdown",
   "metadata": {},
   "source": [
    "# TFIDF+SMOTE+ENN+7:3 SPLIT+SUPPORT VECTOR MACHINES "
   ]
  },
  {
   "cell_type": "code",
   "execution_count": 126,
   "metadata": {},
   "outputs": [],
   "source": [
    "from sklearn.svm import LinearSVC\n",
    "from sklearn.pipeline import Pipeline\n",
    "\n",
    "text_clf=make_pipeline(LinearSVC())\n",
    "text_clf.fit(X_train,y_train)\n",
    "predictions = text_clf.predict(X_test)"
   ]
  },
  {
   "cell_type": "code",
   "execution_count": 127,
   "metadata": {},
   "outputs": [
    {
     "name": "stdout",
     "output_type": "stream",
     "text": [
      "[[1816    0    0    0    0    0    0    0]\n",
      " [   0 1807    0    0    0    0    0    0]\n",
      " [   0    0 1777    0    0    0    0    0]\n",
      " [   0    0    0 1745    0    0    0    0]\n",
      " [   0    0    0    0 1779    0    0    0]\n",
      " [   0    0    0    0    0 1785    0    0]\n",
      " [   0    0    0    0    0    0 1761    0]\n",
      " [   0    0    0    0    0    0    0 1791]]\n"
     ]
    }
   ],
   "source": [
    "from sklearn.metrics import confusion_matrix,classification_report\n",
    "print(confusion_matrix(y_test,predictions))"
   ]
  },
  {
   "cell_type": "code",
   "execution_count": 128,
   "metadata": {},
   "outputs": [
    {
     "name": "stderr",
     "output_type": "stream",
     "text": [
      "C:\\Users\\TMHBXB78\\Anaconda3\\lib\\site-packages\\sklearn\\utils\\deprecation.py:87: FutureWarning: Function plot_confusion_matrix is deprecated; Function `plot_confusion_matrix` is deprecated in 1.0 and will be removed in 1.2. Use one of the class methods: ConfusionMatrixDisplay.from_predictions or ConfusionMatrixDisplay.from_estimator.\n",
      "  warnings.warn(msg, category=FutureWarning)\n"
     ]
    },
    {
     "data": {
      "text/plain": [
       "<sklearn.metrics._plot.confusion_matrix.ConfusionMatrixDisplay at 0x27af0c7c640>"
      ]
     },
     "execution_count": 128,
     "metadata": {},
     "output_type": "execute_result"
    },
    {
     "data": {
      "image/png": "[encoded data removed]",
      "text/plain": [
       "<Figure size 432x288 with 2 Axes>"
      ]
     },
     "metadata": {
      "needs_background": "light"
     },
     "output_type": "display_data"
    }
   ],
   "source": [
    "plot_confusion_matrix(text_clf,X_test,y_test)"
   ]
  },
  {
   "cell_type": "code",
   "execution_count": 129,
   "metadata": {},
   "outputs": [
    {
     "name": "stdout",
     "output_type": "stream",
     "text": [
      "              precision    recall  f1-score   support\n",
      "\n",
      "           0       1.00      1.00      1.00      1816\n",
      "           1       1.00      1.00      1.00      1807\n",
      "           2       1.00      1.00      1.00      1777\n",
      "           3       1.00      1.00      1.00      1745\n",
      "           4       1.00      1.00      1.00      1779\n",
      "           5       1.00      1.00      1.00      1785\n",
      "           6       1.00      1.00      1.00      1761\n",
      "           7       1.00      1.00      1.00      1791\n",
      "\n",
      "    accuracy                           1.00     14261\n",
      "   macro avg       1.00      1.00      1.00     14261\n",
      "weighted avg       1.00      1.00      1.00     14261\n",
      "\n"
     ]
    }
   ],
   "source": [
    "print(classification_report(y_test,predictions))"
   ]
  },
  {
   "cell_type": "markdown",
   "metadata": {},
   "source": [
    "# TFIDF+SMOTE+ENN+7:3 SPLIT+XGBOOST"
   ]
  },
  {
   "cell_type": "code",
   "execution_count": 130,
   "metadata": {},
   "outputs": [],
   "source": [
    "from numpy import loadtxt\n",
    "from xgboost import XGBClassifier\n",
    "\n",
    "text_clf=make_pipeline(XGBClassifier())\n",
    "text_clf.fit(X_train,y_train)\n",
    "predictions = text_clf.predict(X_test)"
   ]
  },
  {
   "cell_type": "code",
   "execution_count": 131,
   "metadata": {},
   "outputs": [
    {
     "name": "stdout",
     "output_type": "stream",
     "text": [
      "[[1816    0    0    0    0    0    0    0]\n",
      " [   0 1805    0    1    0    0    0    1]\n",
      " [   0    0 1776    0    0    0    0    1]\n",
      " [   0    0    0 1745    0    0    0    0]\n",
      " [   0    0    0    0 1779    0    0    0]\n",
      " [   0    0    0    0    0 1785    0    0]\n",
      " [   0    0    0    0    0    0 1761    0]\n",
      " [   0    0    0    0    0    0    0 1791]]\n"
     ]
    }
   ],
   "source": [
    "from sklearn.metrics import confusion_matrix,classification_report\n",
    "print(confusion_matrix(y_test,predictions))"
   ]
  },
  {
   "cell_type": "code",
   "execution_count": 132,
   "metadata": {},
   "outputs": [
    {
     "name": "stderr",
     "output_type": "stream",
     "text": [
      "C:\\Users\\TMHBXB78\\Anaconda3\\lib\\site-packages\\sklearn\\utils\\deprecation.py:87: FutureWarning: Function plot_confusion_matrix is deprecated; Function `plot_confusion_matrix` is deprecated in 1.0 and will be removed in 1.2. Use one of the class methods: ConfusionMatrixDisplay.from_predictions or ConfusionMatrixDisplay.from_estimator.\n",
      "  warnings.warn(msg, category=FutureWarning)\n"
     ]
    },
    {
     "data": {
      "text/plain": [
       "<sklearn.metrics._plot.confusion_matrix.ConfusionMatrixDisplay at 0x27aebd98100>"
      ]
     },
     "execution_count": 132,
     "metadata": {},
     "output_type": "execute_result"
    },
    {
     "data": {
      "image/png": "[encoded data removed]",
      "text/plain": [
       "<Figure size 432x288 with 2 Axes>"
      ]
     },
     "metadata": {
      "needs_background": "light"
     },
     "output_type": "display_data"
    }
   ],
   "source": [
    "plot_confusion_matrix(text_clf,X_test,y_test)"
   ]
  },
  {
   "cell_type": "code",
   "execution_count": 133,
   "metadata": {},
   "outputs": [
    {
     "name": "stdout",
     "output_type": "stream",
     "text": [
      "              precision    recall  f1-score   support\n",
      "\n",
      "           0       1.00      1.00      1.00      1816\n",
      "           1       1.00      1.00      1.00      1807\n",
      "           2       1.00      1.00      1.00      1777\n",
      "           3       1.00      1.00      1.00      1745\n",
      "           4       1.00      1.00      1.00      1779\n",
      "           5       1.00      1.00      1.00      1785\n",
      "           6       1.00      1.00      1.00      1761\n",
      "           7       1.00      1.00      1.00      1791\n",
      "\n",
      "    accuracy                           1.00     14261\n",
      "   macro avg       1.00      1.00      1.00     14261\n",
      "weighted avg       1.00      1.00      1.00     14261\n",
      "\n"
     ]
    }
   ],
   "source": [
    "print(classification_report(y_test,predictions))"
   ]
  },
  {
   "cell_type": "markdown",
   "metadata": {},
   "source": [
    "# TFIDF+SMOTE+ENN+5FOLD STRATIFIED CROSS VALIDATION +RANDOM FOREST"
   ]
  },
  {
   "cell_type": "code",
   "execution_count": 134,
   "metadata": {},
   "outputs": [
    {
     "name": "stdout",
     "output_type": "stream",
     "text": [
      "Fold:1, Train set: 34572, Test set:8643\n",
      "Fold:2, Train set: 34572, Test set:8643\n",
      "Fold:3, Train set: 34572, Test set:8643\n",
      "Fold:4, Train set: 34572, Test set:8643\n",
      "Fold:5, Train set: 34572, Test set:8643\n",
      "Scores for each fold are: [0.9995372  0.9994215  0.99895869 0.9990744  0.9995372 ]\n",
      "Average score: 1.00\n"
     ]
    }
   ],
   "source": [
    "from statistics import mean, stdev\n",
    "from sklearn import preprocessing\n",
    "from sklearn.model_selection import StratifiedKFold\n",
    "from sklearn import linear_model\n",
    "from sklearn import datasets\n",
    "from sklearn import ensemble\n",
    "\n",
    "from sklearn.ensemble import RandomForestClassifier\n",
    "\n",
    "# Lets split the data into 5 folds. \n",
    "# We will use this 'kf'(StratiFiedKFold splitting stratergy) object as input to cross_val_score() method\n",
    "# The folds are made by preserving the percentage of samples for each class.\n",
    "kf = StratifiedKFold(n_splits=5, shuffle=True, random_state=42)\n",
    "\n",
    "cnt = 1\n",
    "# split()  method generate indices to split data into training and test set.\n",
    "for train_index, test_index in kf.split(X_tfidf, y_new):\n",
    "    print(f'Fold:{cnt}, Train set: {len(train_index)}, Test set:{len(test_index)}')\n",
    "    cnt+=1\n",
    "    \n",
    "# Note that: \n",
    "# cross_val_score() parameter 'cv' will by default use StratifiedKFold spliting startergy if we just specify value of number of folds. \n",
    "# So you can bypass above step and just specify cv= 5 in cross_val_score() function\n",
    "\n",
    "score = cross_val_score(ensemble.RandomForestClassifier(random_state= 42), X_tfidf, y_new, cv= kf, scoring=\"accuracy\")\n",
    "print(f'Scores for each fold are: {score}')\n",
    "print(f'Average score: {\"{:.2f}\".format(score.mean())}')"
   ]
  },
  {
   "cell_type": "code",
   "execution_count": 135,
   "metadata": {},
   "outputs": [],
   "source": [
    "from sklearn.metrics import classification_report, accuracy_score, make_scorer"
   ]
  },
  {
   "cell_type": "code",
   "execution_count": 136,
   "metadata": {},
   "outputs": [],
   "source": [
    "def classification_report_with_accuracy_score(y_new, Z):\n",
    "    print (classification_report(y_new, Z)) # print classification report\n",
    "    return accuracy_score(y_new, Z) # return accuracy score"
   ]
  },
  {
   "cell_type": "code",
   "execution_count": 137,
   "metadata": {},
   "outputs": [
    {
     "name": "stdout",
     "output_type": "stream",
     "text": [
      "              precision    recall  f1-score   support\n",
      "\n",
      "           0       1.00      1.00      1.00      1081\n",
      "           1       1.00      1.00      1.00      1081\n",
      "           2       1.00      1.00      1.00      1080\n",
      "           3       1.00      1.00      1.00      1081\n",
      "           4       1.00      1.00      1.00      1080\n",
      "           5       1.00      1.00      1.00      1081\n",
      "           6       1.00      1.00      1.00      1079\n",
      "           7       1.00      1.00      1.00      1080\n",
      "\n",
      "    accuracy                           1.00      8643\n",
      "   macro avg       1.00      1.00      1.00      8643\n",
      "weighted avg       1.00      1.00      1.00      8643\n",
      "\n",
      "              precision    recall  f1-score   support\n",
      "\n",
      "           0       1.00      1.00      1.00      1081\n",
      "           1       1.00      1.00      1.00      1080\n",
      "           2       1.00      1.00      1.00      1081\n",
      "           3       1.00      1.00      1.00      1081\n",
      "           4       1.00      1.00      1.00      1080\n",
      "           5       1.00      1.00      1.00      1081\n",
      "           6       1.00      1.00      1.00      1079\n",
      "           7       1.00      1.00      1.00      1080\n",
      "\n",
      "    accuracy                           1.00      8643\n",
      "   macro avg       1.00      1.00      1.00      8643\n",
      "weighted avg       1.00      1.00      1.00      8643\n",
      "\n",
      "              precision    recall  f1-score   support\n",
      "\n",
      "           0       1.00      1.00      1.00      1081\n",
      "           1       1.00      1.00      1.00      1080\n",
      "           2       1.00      1.00      1.00      1081\n",
      "           3       1.00      1.00      1.00      1080\n",
      "           4       1.00      1.00      1.00      1081\n",
      "           5       1.00      1.00      1.00      1081\n",
      "           6       1.00      1.00      1.00      1078\n",
      "           7       1.00      1.00      1.00      1081\n",
      "\n",
      "    accuracy                           1.00      8643\n",
      "   macro avg       1.00      1.00      1.00      8643\n",
      "weighted avg       1.00      1.00      1.00      8643\n",
      "\n",
      "              precision    recall  f1-score   support\n",
      "\n",
      "           0       1.00      1.00      1.00      1080\n",
      "           1       1.00      1.00      1.00      1081\n",
      "           2       1.00      1.00      1.00      1081\n",
      "           3       1.00      1.00      1.00      1080\n",
      "           4       1.00      1.00      1.00      1081\n",
      "           5       1.00      1.00      1.00      1080\n",
      "           6       1.00      1.00      1.00      1079\n",
      "           7       1.00      1.00      1.00      1081\n",
      "\n",
      "    accuracy                           1.00      8643\n",
      "   macro avg       1.00      1.00      1.00      8643\n",
      "weighted avg       1.00      1.00      1.00      8643\n",
      "\n",
      "              precision    recall  f1-score   support\n",
      "\n",
      "           0       1.00      1.00      1.00      1080\n",
      "           1       1.00      1.00      1.00      1081\n",
      "           2       1.00      1.00      1.00      1080\n",
      "           3       1.00      1.00      1.00      1081\n",
      "           4       1.00      1.00      1.00      1081\n",
      "           5       1.00      1.00      1.00      1080\n",
      "           6       1.00      1.00      1.00      1079\n",
      "           7       1.00      1.00      1.00      1081\n",
      "\n",
      "    accuracy                           1.00      8643\n",
      "   macro avg       1.00      1.00      1.00      8643\n",
      "weighted avg       1.00      1.00      1.00      8643\n",
      "\n",
      "[0.9998843 0.9997686 0.9998843 0.9997686 0.9998843]\n"
     ]
    }
   ],
   "source": [
    "# Nested CV with parameter optimization\n",
    "nested_score = cross_val_score(text_clf, X_tfidf, y_new, cv= kf, \\\n",
    "               scoring=make_scorer(classification_report_with_accuracy_score))\n",
    "print (nested_score)\n",
    "\n",
    "#as we see the performance are good here so we are not requring any hyperparamter optimization in random forest"
   ]
  },
  {
   "cell_type": "markdown",
   "metadata": {},
   "source": [
    "# TFIDF+SMOTE+ENN+5FOLD STRATIFIED CROSS VALIDATION + SVM"
   ]
  },
  {
   "cell_type": "code",
   "execution_count": 138,
   "metadata": {},
   "outputs": [
    {
     "name": "stdout",
     "output_type": "stream",
     "text": [
      "Fold:1, Train set: 34572, Test set:8643\n",
      "Fold:2, Train set: 34572, Test set:8643\n",
      "Fold:3, Train set: 34572, Test set:8643\n",
      "Fold:4, Train set: 34572, Test set:8643\n",
      "Fold:5, Train set: 34572, Test set:8643\n",
      "Scores for each fold are: [1. 1. 1. 1. 1.]\n",
      "Average score: 1.00\n"
     ]
    }
   ],
   "source": [
    "from statistics import mean, stdev\n",
    "from sklearn import preprocessing\n",
    "from sklearn.model_selection import StratifiedKFold\n",
    "from sklearn import linear_model\n",
    "from sklearn import datasets\n",
    "from sklearn import ensemble\n",
    "\n",
    "from sklearn.svm import LinearSVC\n",
    "\n",
    "# Lets split the data into 5 folds. \n",
    "# We will use this 'kf'(StratiFiedKFold splitting stratergy) object as input to cross_val_score() method\n",
    "# The folds are made by preserving the percentage of samples for each class.\n",
    "kf = StratifiedKFold(n_splits=5, shuffle=True, random_state=42)\n",
    "\n",
    "cnt = 1\n",
    "# split()  method generate indices to split data into training and test set.\n",
    "for train_index, test_index in kf.split(X_tfidf, y_new):\n",
    "    print(f'Fold:{cnt}, Train set: {len(train_index)}, Test set:{len(test_index)}')\n",
    "    cnt+=1\n",
    "    \n",
    "# Note that: \n",
    "# cross_val_score() parameter 'cv' will by default use StratifiedKFold spliting startergy if we just specify value of number of folds. \n",
    "# So you can bypass above step and just specify cv= 5 in cross_val_score() function\n",
    "from sklearn.pipeline import Pipeline\n",
    "\n",
    "text_clf=make_pipeline(LinearSVC())\n",
    "\n",
    "\n",
    "score = cross_val_score(text_clf, X_tfidf, y_new, cv= kf, scoring=\"accuracy\")\n",
    "print(f'Scores for each fold are: {score}')\n",
    "print(f'Average score: {\"{:.2f}\".format(score.mean())}')"
   ]
  },
  {
   "cell_type": "code",
   "execution_count": 139,
   "metadata": {},
   "outputs": [],
   "source": [
    "def classification_report_with_accuracy_score(y_new, Z):\n",
    "    print (classification_report(y_new, Z)) # print classification report\n",
    "    return accuracy_score(y_new, Z) # return accuracy score"
   ]
  },
  {
   "cell_type": "code",
   "execution_count": 140,
   "metadata": {},
   "outputs": [
    {
     "name": "stdout",
     "output_type": "stream",
     "text": [
      "              precision    recall  f1-score   support\n",
      "\n",
      "           0       1.00      1.00      1.00      1081\n",
      "           1       1.00      1.00      1.00      1081\n",
      "           2       1.00      1.00      1.00      1080\n",
      "           3       1.00      1.00      1.00      1081\n",
      "           4       1.00      1.00      1.00      1080\n",
      "           5       1.00      1.00      1.00      1081\n",
      "           6       1.00      1.00      1.00      1079\n",
      "           7       1.00      1.00      1.00      1080\n",
      "\n",
      "    accuracy                           1.00      8643\n",
      "   macro avg       1.00      1.00      1.00      8643\n",
      "weighted avg       1.00      1.00      1.00      8643\n",
      "\n",
      "              precision    recall  f1-score   support\n",
      "\n",
      "           0       1.00      1.00      1.00      1081\n",
      "           1       1.00      1.00      1.00      1080\n",
      "           2       1.00      1.00      1.00      1081\n",
      "           3       1.00      1.00      1.00      1081\n",
      "           4       1.00      1.00      1.00      1080\n",
      "           5       1.00      1.00      1.00      1081\n",
      "           6       1.00      1.00      1.00      1079\n",
      "           7       1.00      1.00      1.00      1080\n",
      "\n",
      "    accuracy                           1.00      8643\n",
      "   macro avg       1.00      1.00      1.00      8643\n",
      "weighted avg       1.00      1.00      1.00      8643\n",
      "\n",
      "              precision    recall  f1-score   support\n",
      "\n",
      "           0       1.00      1.00      1.00      1081\n",
      "           1       1.00      1.00      1.00      1080\n",
      "           2       1.00      1.00      1.00      1081\n",
      "           3       1.00      1.00      1.00      1080\n",
      "           4       1.00      1.00      1.00      1081\n",
      "           5       1.00      1.00      1.00      1081\n",
      "           6       1.00      1.00      1.00      1078\n",
      "           7       1.00      1.00      1.00      1081\n",
      "\n",
      "    accuracy                           1.00      8643\n",
      "   macro avg       1.00      1.00      1.00      8643\n",
      "weighted avg       1.00      1.00      1.00      8643\n",
      "\n",
      "              precision    recall  f1-score   support\n",
      "\n",
      "           0       1.00      1.00      1.00      1080\n",
      "           1       1.00      1.00      1.00      1081\n",
      "           2       1.00      1.00      1.00      1081\n",
      "           3       1.00      1.00      1.00      1080\n",
      "           4       1.00      1.00      1.00      1081\n",
      "           5       1.00      1.00      1.00      1080\n",
      "           6       1.00      1.00      1.00      1079\n",
      "           7       1.00      1.00      1.00      1081\n",
      "\n",
      "    accuracy                           1.00      8643\n",
      "   macro avg       1.00      1.00      1.00      8643\n",
      "weighted avg       1.00      1.00      1.00      8643\n",
      "\n",
      "              precision    recall  f1-score   support\n",
      "\n",
      "           0       1.00      1.00      1.00      1080\n",
      "           1       1.00      1.00      1.00      1081\n",
      "           2       1.00      1.00      1.00      1080\n",
      "           3       1.00      1.00      1.00      1081\n",
      "           4       1.00      1.00      1.00      1081\n",
      "           5       1.00      1.00      1.00      1080\n",
      "           6       1.00      1.00      1.00      1079\n",
      "           7       1.00      1.00      1.00      1081\n",
      "\n",
      "    accuracy                           1.00      8643\n",
      "   macro avg       1.00      1.00      1.00      8643\n",
      "weighted avg       1.00      1.00      1.00      8643\n",
      "\n",
      "[1. 1. 1. 1. 1.]\n"
     ]
    }
   ],
   "source": [
    "# Nested CV with parameter optimization\n",
    "nested_score = cross_val_score(text_clf, X_tfidf, y_new, cv= kf, \\\n",
    "               scoring=make_scorer(classification_report_with_accuracy_score))\n",
    "print (nested_score)"
   ]
  },
  {
   "cell_type": "code",
   "execution_count": 141,
   "metadata": {},
   "outputs": [
    {
     "name": "stdout",
     "output_type": "stream",
     "text": [
      "Fold:1, Train set: 34572, Test set:8643\n",
      "Fold:2, Train set: 34572, Test set:8643\n",
      "Fold:3, Train set: 34572, Test set:8643\n",
      "Fold:4, Train set: 34572, Test set:8643\n",
      "Fold:5, Train set: 34572, Test set:8643\n",
      "Scores for each fold are: [0.9998843 0.9997686 0.9998843 0.9997686 0.9998843]\n",
      "Average score: 1.00\n"
     ]
    }
   ],
   "source": [
    "from statistics import mean, stdev\n",
    "from sklearn import preprocessing\n",
    "from sklearn.model_selection import StratifiedKFold\n",
    "from sklearn import linear_model\n",
    "from sklearn import datasets\n",
    "from sklearn import ensemble\n",
    "\n",
    "\n",
    "# Lets split the data into 5 folds. \n",
    "# We will use this 'kf'(StratiFiedKFold splitting stratergy) object as input to cross_val_score() method\n",
    "# The folds are made by preserving the percentage of samples for each class.\n",
    "kf = StratifiedKFold(n_splits=5, shuffle=True, random_state=42)\n",
    "\n",
    "cnt = 1\n",
    "# split()  method generate indices to split data into training and test set.\n",
    "for train_index, test_index in kf.split(X_tfidf, y_new):\n",
    "    print(f'Fold:{cnt}, Train set: {len(train_index)}, Test set:{len(test_index)}')\n",
    "    cnt+=1\n",
    "    \n",
    "# Note that: \n",
    "# cross_val_score() parameter 'cv' will by default use StratifiedKFold spliting startergy if we just specify value of number of folds. \n",
    "# So you can bypass above step and just specify cv= 5 in cross_val_score() function\n",
    "from numpy import loadtxt\n",
    "from xgboost import XGBClassifier\n",
    "\n",
    "text_clf=make_pipeline(XGBClassifier())\n",
    "\n",
    "\n",
    "score = cross_val_score(text_clf, X_tfidf, y_new, cv= kf, scoring=\"accuracy\")\n",
    "print(f'Scores for each fold are: {score}')\n",
    "print(f'Average score: {\"{:.2f}\".format(score.mean())}')"
   ]
  },
  {
   "cell_type": "code",
   "execution_count": 142,
   "metadata": {},
   "outputs": [],
   "source": [
    "def classification_report_with_accuracy_score(y_new, Z):\n",
    "    print (classification_report(y_new, Z)) # print classification report\n",
    "    return accuracy_score(y_new, Z) # return accuracy score"
   ]
  },
  {
   "cell_type": "code",
   "execution_count": 143,
   "metadata": {},
   "outputs": [
    {
     "name": "stdout",
     "output_type": "stream",
     "text": [
      "              precision    recall  f1-score   support\n",
      "\n",
      "           0       1.00      1.00      1.00      1081\n",
      "           1       1.00      1.00      1.00      1081\n",
      "           2       1.00      1.00      1.00      1080\n",
      "           3       1.00      1.00      1.00      1081\n",
      "           4       1.00      1.00      1.00      1080\n",
      "           5       1.00      1.00      1.00      1081\n",
      "           6       1.00      1.00      1.00      1079\n",
      "           7       1.00      1.00      1.00      1080\n",
      "\n",
      "    accuracy                           1.00      8643\n",
      "   macro avg       1.00      1.00      1.00      8643\n",
      "weighted avg       1.00      1.00      1.00      8643\n",
      "\n",
      "              precision    recall  f1-score   support\n",
      "\n",
      "           0       1.00      1.00      1.00      1081\n",
      "           1       1.00      1.00      1.00      1080\n",
      "           2       1.00      1.00      1.00      1081\n",
      "           3       1.00      1.00      1.00      1081\n",
      "           4       1.00      1.00      1.00      1080\n",
      "           5       1.00      1.00      1.00      1081\n",
      "           6       1.00      1.00      1.00      1079\n",
      "           7       1.00      1.00      1.00      1080\n",
      "\n",
      "    accuracy                           1.00      8643\n",
      "   macro avg       1.00      1.00      1.00      8643\n",
      "weighted avg       1.00      1.00      1.00      8643\n",
      "\n",
      "              precision    recall  f1-score   support\n",
      "\n",
      "           0       1.00      1.00      1.00      1081\n",
      "           1       1.00      1.00      1.00      1080\n",
      "           2       1.00      1.00      1.00      1081\n",
      "           3       1.00      1.00      1.00      1080\n",
      "           4       1.00      1.00      1.00      1081\n",
      "           5       1.00      1.00      1.00      1081\n",
      "           6       1.00      1.00      1.00      1078\n",
      "           7       1.00      1.00      1.00      1081\n",
      "\n",
      "    accuracy                           1.00      8643\n",
      "   macro avg       1.00      1.00      1.00      8643\n",
      "weighted avg       1.00      1.00      1.00      8643\n",
      "\n",
      "              precision    recall  f1-score   support\n",
      "\n",
      "           0       1.00      1.00      1.00      1080\n",
      "           1       1.00      1.00      1.00      1081\n",
      "           2       1.00      1.00      1.00      1081\n",
      "           3       1.00      1.00      1.00      1080\n",
      "           4       1.00      1.00      1.00      1081\n",
      "           5       1.00      1.00      1.00      1080\n",
      "           6       1.00      1.00      1.00      1079\n",
      "           7       1.00      1.00      1.00      1081\n",
      "\n",
      "    accuracy                           1.00      8643\n",
      "   macro avg       1.00      1.00      1.00      8643\n",
      "weighted avg       1.00      1.00      1.00      8643\n",
      "\n",
      "              precision    recall  f1-score   support\n",
      "\n",
      "           0       1.00      1.00      1.00      1080\n",
      "           1       1.00      1.00      1.00      1081\n",
      "           2       1.00      1.00      1.00      1080\n",
      "           3       1.00      1.00      1.00      1081\n",
      "           4       1.00      1.00      1.00      1081\n",
      "           5       1.00      1.00      1.00      1080\n",
      "           6       1.00      1.00      1.00      1079\n",
      "           7       1.00      1.00      1.00      1081\n",
      "\n",
      "    accuracy                           1.00      8643\n",
      "   macro avg       1.00      1.00      1.00      8643\n",
      "weighted avg       1.00      1.00      1.00      8643\n",
      "\n",
      "[0.9998843 0.9997686 0.9998843 0.9997686 0.9998843]\n"
     ]
    }
   ],
   "source": [
    "# Nested CV with parameter optimization\n",
    "nested_score = cross_val_score(text_clf, X_tfidf, y_new, cv= kf, \\\n",
    "               scoring=make_scorer(classification_report_with_accuracy_score))\n",
    "print (nested_score)"
   ]
  },
  {
   "cell_type": "code",
   "execution_count": null,
   "metadata": {},
   "outputs": [],
   "source": []
  },
  {
   "cell_type": "code",
   "execution_count": null,
   "metadata": {},
   "outputs": [],
   "source": []
  }
 ],
 "metadata": {
  "kernelspec": {
   "display_name": "Python 3 (ipykernel)",
   "language": "python",
   "name": "python3"
  },
  "language_info": {
   "codemirror_mode": {
    "name": "ipython",
    "version": 3
   },
   "file_extension": ".py",
   "mimetype": "text/x-python",
   "name": "python",
   "nbconvert_exporter": "python",
   "pygments_lexer": "ipython3",
   "version": "3.11.5"
  }
 },
 "nbformat": 4,
 "nbformat_minor": 4
}
